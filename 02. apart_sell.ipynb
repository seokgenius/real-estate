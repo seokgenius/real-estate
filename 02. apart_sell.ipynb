{
 "cells": [
  {
   "cell_type": "markdown",
   "metadata": {},
   "source": [
    "# Project Day2"
   ]
  },
  {
   "cell_type": "code",
   "execution_count": 1,
   "metadata": {},
   "outputs": [],
   "source": [
    "import pandas as pd\n",
    "import numpy as np\n",
    "import seaborn as sns\n",
    "import matplotlib.pyplot as plt\n",
    "import matplotlib.font_manager as fm\n",
    "from matplotlib import rcParams\n",
    "plt.rc('font', family='Malgun Gothic')\n",
    "plt.rc('font', size='10')"
   ]
  },
  {
   "cell_type": "code",
   "execution_count": 2,
   "metadata": {},
   "outputs": [],
   "source": [
    "# 새 데이터 불러오기 \n",
    "gudong16_df = pd.read_csv('gudong16.csv', encoding='ANSI')\n",
    "gudong17_df = pd.read_csv('gudong17.csv', encoding='ANSI')\n",
    "gudong18_df = pd.read_csv('gudong18.csv', encoding='ANSI')\n",
    "gudong19_df = pd.read_csv('gudong19.csv', encoding='ANSI')"
   ]
  },
  {
   "cell_type": "code",
   "execution_count": 3,
   "metadata": {},
   "outputs": [
    {
     "name": "stdout",
     "output_type": "stream",
     "text": [
      "<class 'pandas.core.frame.DataFrame'>\n",
      "RangeIndex: 110200 entries, 0 to 110199\n",
      "Data columns (total 5 columns):\n",
      "구           110200 non-null object\n",
      "동           110200 non-null object\n",
      "전용면적        110200 non-null float64\n",
      "계약년월        110200 non-null int64\n",
      "거래금액(만원)    110200 non-null int64\n",
      "dtypes: float64(1), int64(2), object(2)\n",
      "memory usage: 4.2+ MB\n"
     ]
    }
   ],
   "source": [
    "gudong16_df.info()"
   ]
  },
  {
   "cell_type": "code",
   "execution_count": 4,
   "metadata": {},
   "outputs": [],
   "source": [
    "## object -> 숫자로 변환하기.\n",
    "gudong16_df['거래금액(만원)'] = gudong16_df['거래금액(만원)'].replace('[\\,]', '', regex=True)\n",
    "gudong16_df['거래금액(만원)'] = pd.to_numeric(gudong16_df['거래금액(만원)'])"
   ]
  },
  {
   "cell_type": "markdown",
   "metadata": {},
   "source": [
    "## 오늘 할일. \n",
    "- 년도별 거래량 시각화\n",
    "- 구입력하면 동 조회 함수 완성 (코드 수정.)\n",
    "- 서울 지도 그리기. (Google API사용)\n",
    "- 거래금액(만원) 데이터 타입 float 형으로 바꾸기.\n",
    "- 구별, 동별 묶는 함수 생성. \n",
    "- 단지별 전용면적별 거래금액 평균 \n",
    "- 전용면적 구간 나눠서, 계약년월, 거래 금액 구하기"
   ]
  },
  {
   "cell_type": "code",
   "execution_count": 5,
   "metadata": {},
   "outputs": [
    {
     "data": {
      "text/html": [
       "<div>\n",
       "<style scoped>\n",
       "    .dataframe tbody tr th:only-of-type {\n",
       "        vertical-align: middle;\n",
       "    }\n",
       "\n",
       "    .dataframe tbody tr th {\n",
       "        vertical-align: top;\n",
       "    }\n",
       "\n",
       "    .dataframe thead th {\n",
       "        text-align: right;\n",
       "    }\n",
       "</style>\n",
       "<table border=\"1\" class=\"dataframe\">\n",
       "  <thead>\n",
       "    <tr style=\"text-align: right;\">\n",
       "      <th></th>\n",
       "      <th>구</th>\n",
       "      <th>동</th>\n",
       "      <th>전용면적</th>\n",
       "      <th>계약년월</th>\n",
       "      <th>거래금액(만원)</th>\n",
       "    </tr>\n",
       "  </thead>\n",
       "  <tbody>\n",
       "    <tr>\n",
       "      <td>0</td>\n",
       "      <td>강남구</td>\n",
       "      <td>개포동</td>\n",
       "      <td>77.75</td>\n",
       "      <td>201603</td>\n",
       "      <td>75000</td>\n",
       "    </tr>\n",
       "    <tr>\n",
       "      <td>1</td>\n",
       "      <td>강남구</td>\n",
       "      <td>개포동</td>\n",
       "      <td>77.75</td>\n",
       "      <td>201604</td>\n",
       "      <td>71000</td>\n",
       "    </tr>\n",
       "    <tr>\n",
       "      <td>2</td>\n",
       "      <td>강남구</td>\n",
       "      <td>개포동</td>\n",
       "      <td>77.75</td>\n",
       "      <td>201605</td>\n",
       "      <td>76900</td>\n",
       "    </tr>\n",
       "    <tr>\n",
       "      <td>3</td>\n",
       "      <td>강남구</td>\n",
       "      <td>개포동</td>\n",
       "      <td>77.75</td>\n",
       "      <td>201605</td>\n",
       "      <td>75500</td>\n",
       "    </tr>\n",
       "    <tr>\n",
       "      <td>4</td>\n",
       "      <td>강남구</td>\n",
       "      <td>개포동</td>\n",
       "      <td>77.75</td>\n",
       "      <td>201612</td>\n",
       "      <td>80000</td>\n",
       "    </tr>\n",
       "  </tbody>\n",
       "</table>\n",
       "</div>"
      ],
      "text/plain": [
       "     구    동   전용면적    계약년월  거래금액(만원)\n",
       "0  강남구  개포동  77.75  201603     75000\n",
       "1  강남구  개포동  77.75  201604     71000\n",
       "2  강남구  개포동  77.75  201605     76900\n",
       "3  강남구  개포동  77.75  201605     75500\n",
       "4  강남구  개포동  77.75  201612     80000"
      ]
     },
     "execution_count": 5,
     "metadata": {},
     "output_type": "execute_result"
    }
   ],
   "source": [
    "gudong16_df.head()"
   ]
  },
  {
   "cell_type": "code",
   "execution_count": 6,
   "metadata": {},
   "outputs": [
    {
     "data": {
      "text/plain": [
       "201606    13292\n",
       "201610    12175\n",
       "201607    11831\n",
       "201609    11325\n",
       "201608    11024\n",
       "201605    10853\n",
       "201604    10469\n",
       "201603     8897\n",
       "201611     5766\n",
       "201602     5364\n",
       "201601     4990\n",
       "201612     4214\n",
       "Name: 계약년월, dtype: int64"
      ]
     },
     "execution_count": 6,
     "metadata": {},
     "output_type": "execute_result"
    }
   ],
   "source": [
    "gudong16_df['계약년월'].value_counts()"
   ]
  },
  {
   "cell_type": "code",
   "execution_count": 7,
   "metadata": {},
   "outputs": [
    {
     "data": {
      "text/plain": [
       "201707    14947\n",
       "201705    14857\n",
       "201706    12849\n",
       "201704     9384\n",
       "201703     8604\n",
       "201712     8541\n",
       "201711     8139\n",
       "201709     6859\n",
       "201710     6314\n",
       "201702     5730\n",
       "201708     5112\n",
       "201701     3741\n",
       "Name: 계약년월, dtype: int64"
      ]
     },
     "execution_count": 7,
     "metadata": {},
     "output_type": "execute_result"
    }
   ],
   "source": [
    "gudong17_df['계약년월'].value_counts()"
   ]
  },
  {
   "cell_type": "code",
   "execution_count": 8,
   "metadata": {},
   "outputs": [
    {
     "data": {
      "text/plain": [
       "201808    14965\n",
       "201801    12564\n",
       "201803     9410\n",
       "201802     9167\n",
       "201809     7201\n",
       "201807     7028\n",
       "201806     5239\n",
       "201805     4699\n",
       "201804     4487\n",
       "201810     3260\n",
       "201811     1776\n",
       "201812     1591\n",
       "Name: 계약년월, dtype: int64"
      ]
     },
     "execution_count": 8,
     "metadata": {},
     "output_type": "execute_result"
    }
   ],
   "source": [
    "gudong18_df['계약년월'].value_counts()"
   ]
  },
  {
   "cell_type": "code",
   "execution_count": 9,
   "metadata": {},
   "outputs": [
    {
     "data": {
      "text/plain": [
       "201910    11522\n",
       "201911    11487\n",
       "201907     8818\n",
       "201912     8677\n",
       "201909     7003\n",
       "201906     6916\n",
       "201908     6608\n",
       "201905     4398\n",
       "201904     3037\n",
       "201903     2277\n",
       "201901     1727\n",
       "201902     1455\n",
       "Name: 계약년월, dtype: int64"
      ]
     },
     "execution_count": 9,
     "metadata": {},
     "output_type": "execute_result"
    }
   ],
   "source": [
    "gudong19_df['계약년월'].value_counts()"
   ]
  },
  {
   "cell_type": "code",
   "execution_count": 10,
   "metadata": {},
   "outputs": [
    {
     "data": {
      "text/html": [
       "<div>\n",
       "<style scoped>\n",
       "    .dataframe tbody tr th:only-of-type {\n",
       "        vertical-align: middle;\n",
       "    }\n",
       "\n",
       "    .dataframe tbody tr th {\n",
       "        vertical-align: top;\n",
       "    }\n",
       "\n",
       "    .dataframe thead th {\n",
       "        text-align: right;\n",
       "    }\n",
       "</style>\n",
       "<table border=\"1\" class=\"dataframe\">\n",
       "  <thead>\n",
       "    <tr style=\"text-align: right;\">\n",
       "      <th></th>\n",
       "      <th>구</th>\n",
       "      <th>동</th>\n",
       "      <th>전용면적</th>\n",
       "      <th>계약년월</th>\n",
       "      <th>거래금액(만원)</th>\n",
       "    </tr>\n",
       "  </thead>\n",
       "  <tbody>\n",
       "    <tr>\n",
       "      <td>0</td>\n",
       "      <td>강남구</td>\n",
       "      <td>개포동</td>\n",
       "      <td>77.75</td>\n",
       "      <td>201603</td>\n",
       "      <td>75000</td>\n",
       "    </tr>\n",
       "    <tr>\n",
       "      <td>1</td>\n",
       "      <td>강남구</td>\n",
       "      <td>개포동</td>\n",
       "      <td>77.75</td>\n",
       "      <td>201604</td>\n",
       "      <td>71000</td>\n",
       "    </tr>\n",
       "    <tr>\n",
       "      <td>2</td>\n",
       "      <td>강남구</td>\n",
       "      <td>개포동</td>\n",
       "      <td>77.75</td>\n",
       "      <td>201605</td>\n",
       "      <td>76900</td>\n",
       "    </tr>\n",
       "    <tr>\n",
       "      <td>3</td>\n",
       "      <td>강남구</td>\n",
       "      <td>개포동</td>\n",
       "      <td>77.75</td>\n",
       "      <td>201605</td>\n",
       "      <td>75500</td>\n",
       "    </tr>\n",
       "    <tr>\n",
       "      <td>4</td>\n",
       "      <td>강남구</td>\n",
       "      <td>개포동</td>\n",
       "      <td>77.75</td>\n",
       "      <td>201612</td>\n",
       "      <td>80000</td>\n",
       "    </tr>\n",
       "    <tr>\n",
       "      <td>...</td>\n",
       "      <td>...</td>\n",
       "      <td>...</td>\n",
       "      <td>...</td>\n",
       "      <td>...</td>\n",
       "      <td>...</td>\n",
       "    </tr>\n",
       "    <tr>\n",
       "      <td>110195</td>\n",
       "      <td>중랑구</td>\n",
       "      <td>중화동</td>\n",
       "      <td>84.69</td>\n",
       "      <td>201602</td>\n",
       "      <td>27000</td>\n",
       "    </tr>\n",
       "    <tr>\n",
       "      <td>110196</td>\n",
       "      <td>중랑구</td>\n",
       "      <td>중화동</td>\n",
       "      <td>84.69</td>\n",
       "      <td>201605</td>\n",
       "      <td>30000</td>\n",
       "    </tr>\n",
       "    <tr>\n",
       "      <td>110197</td>\n",
       "      <td>중랑구</td>\n",
       "      <td>중화동</td>\n",
       "      <td>67.44</td>\n",
       "      <td>201610</td>\n",
       "      <td>25700</td>\n",
       "    </tr>\n",
       "    <tr>\n",
       "      <td>110198</td>\n",
       "      <td>중랑구</td>\n",
       "      <td>중화동</td>\n",
       "      <td>67.57</td>\n",
       "      <td>201602</td>\n",
       "      <td>22300</td>\n",
       "    </tr>\n",
       "    <tr>\n",
       "      <td>110199</td>\n",
       "      <td>중랑구</td>\n",
       "      <td>중화동</td>\n",
       "      <td>95.94</td>\n",
       "      <td>201612</td>\n",
       "      <td>32000</td>\n",
       "    </tr>\n",
       "  </tbody>\n",
       "</table>\n",
       "<p>110200 rows × 5 columns</p>\n",
       "</div>"
      ],
      "text/plain": [
       "          구    동   전용면적    계약년월  거래금액(만원)\n",
       "0       강남구  개포동  77.75  201603     75000\n",
       "1       강남구  개포동  77.75  201604     71000\n",
       "2       강남구  개포동  77.75  201605     76900\n",
       "3       강남구  개포동  77.75  201605     75500\n",
       "4       강남구  개포동  77.75  201612     80000\n",
       "...     ...  ...    ...     ...       ...\n",
       "110195  중랑구  중화동  84.69  201602     27000\n",
       "110196  중랑구  중화동  84.69  201605     30000\n",
       "110197  중랑구  중화동  67.44  201610     25700\n",
       "110198  중랑구  중화동  67.57  201602     22300\n",
       "110199  중랑구  중화동  95.94  201612     32000\n",
       "\n",
       "[110200 rows x 5 columns]"
      ]
     },
     "execution_count": 10,
     "metadata": {},
     "output_type": "execute_result"
    }
   ],
   "source": [
    "gudong16_df.sort_index()"
   ]
  },
  {
   "cell_type": "code",
   "execution_count": 11,
   "metadata": {},
   "outputs": [
    {
     "data": {
      "text/html": [
       "<div>\n",
       "<style scoped>\n",
       "    .dataframe tbody tr th:only-of-type {\n",
       "        vertical-align: middle;\n",
       "    }\n",
       "\n",
       "    .dataframe tbody tr th {\n",
       "        vertical-align: top;\n",
       "    }\n",
       "\n",
       "    .dataframe thead th {\n",
       "        text-align: right;\n",
       "    }\n",
       "</style>\n",
       "<table border=\"1\" class=\"dataframe\">\n",
       "  <thead>\n",
       "    <tr style=\"text-align: right;\">\n",
       "      <th></th>\n",
       "      <th>구</th>\n",
       "      <th>동</th>\n",
       "      <th>전용면적</th>\n",
       "      <th>계약년월</th>\n",
       "      <th>거래금액(만원)</th>\n",
       "    </tr>\n",
       "  </thead>\n",
       "  <tbody>\n",
       "    <tr>\n",
       "      <td>0</td>\n",
       "      <td>강남구</td>\n",
       "      <td>개포동</td>\n",
       "      <td>77.750</td>\n",
       "      <td>201603</td>\n",
       "      <td>75000</td>\n",
       "    </tr>\n",
       "    <tr>\n",
       "      <td>1</td>\n",
       "      <td>강남구</td>\n",
       "      <td>개포동</td>\n",
       "      <td>77.750</td>\n",
       "      <td>201604</td>\n",
       "      <td>71000</td>\n",
       "    </tr>\n",
       "    <tr>\n",
       "      <td>2</td>\n",
       "      <td>강남구</td>\n",
       "      <td>개포동</td>\n",
       "      <td>77.750</td>\n",
       "      <td>201605</td>\n",
       "      <td>76900</td>\n",
       "    </tr>\n",
       "    <tr>\n",
       "      <td>3</td>\n",
       "      <td>강남구</td>\n",
       "      <td>개포동</td>\n",
       "      <td>77.750</td>\n",
       "      <td>201605</td>\n",
       "      <td>75500</td>\n",
       "    </tr>\n",
       "    <tr>\n",
       "      <td>4</td>\n",
       "      <td>강남구</td>\n",
       "      <td>개포동</td>\n",
       "      <td>77.750</td>\n",
       "      <td>201612</td>\n",
       "      <td>80000</td>\n",
       "    </tr>\n",
       "    <tr>\n",
       "      <td>...</td>\n",
       "      <td>...</td>\n",
       "      <td>...</td>\n",
       "      <td>...</td>\n",
       "      <td>...</td>\n",
       "      <td>...</td>\n",
       "    </tr>\n",
       "    <tr>\n",
       "      <td>6753</td>\n",
       "      <td>강남구</td>\n",
       "      <td>청담동</td>\n",
       "      <td>35.905</td>\n",
       "      <td>201603</td>\n",
       "      <td>45700</td>\n",
       "    </tr>\n",
       "    <tr>\n",
       "      <td>6754</td>\n",
       "      <td>강남구</td>\n",
       "      <td>청담동</td>\n",
       "      <td>35.905</td>\n",
       "      <td>201604</td>\n",
       "      <td>44500</td>\n",
       "    </tr>\n",
       "    <tr>\n",
       "      <td>6755</td>\n",
       "      <td>강남구</td>\n",
       "      <td>청담동</td>\n",
       "      <td>35.905</td>\n",
       "      <td>201607</td>\n",
       "      <td>46000</td>\n",
       "    </tr>\n",
       "    <tr>\n",
       "      <td>6756</td>\n",
       "      <td>강남구</td>\n",
       "      <td>청담동</td>\n",
       "      <td>35.905</td>\n",
       "      <td>201608</td>\n",
       "      <td>51000</td>\n",
       "    </tr>\n",
       "    <tr>\n",
       "      <td>6757</td>\n",
       "      <td>강남구</td>\n",
       "      <td>청담동</td>\n",
       "      <td>39.950</td>\n",
       "      <td>201612</td>\n",
       "      <td>50000</td>\n",
       "    </tr>\n",
       "  </tbody>\n",
       "</table>\n",
       "<p>6758 rows × 5 columns</p>\n",
       "</div>"
      ],
      "text/plain": [
       "        구    동    전용면적    계약년월  거래금액(만원)\n",
       "0     강남구  개포동  77.750  201603     75000\n",
       "1     강남구  개포동  77.750  201604     71000\n",
       "2     강남구  개포동  77.750  201605     76900\n",
       "3     강남구  개포동  77.750  201605     75500\n",
       "4     강남구  개포동  77.750  201612     80000\n",
       "...   ...  ...     ...     ...       ...\n",
       "6753  강남구  청담동  35.905  201603     45700\n",
       "6754  강남구  청담동  35.905  201604     44500\n",
       "6755  강남구  청담동  35.905  201607     46000\n",
       "6756  강남구  청담동  35.905  201608     51000\n",
       "6757  강남구  청담동  39.950  201612     50000\n",
       "\n",
       "[6758 rows x 5 columns]"
      ]
     },
     "execution_count": 11,
     "metadata": {},
     "output_type": "execute_result"
    }
   ],
   "source": [
    "gudong16_df[gudong16_df.구 == '강남구']"
   ]
  },
  {
   "cell_type": "code",
   "execution_count": 12,
   "metadata": {},
   "outputs": [
    {
     "data": {
      "text/plain": [
       "1.0    49069\n",
       "0.0    41611\n",
       "2.0    14777\n",
       "3.0     3169\n",
       "4.0     1574\n",
       "Name: 전용면적, dtype: int64"
      ]
     },
     "execution_count": 12,
     "metadata": {},
     "output_type": "execute_result"
    }
   ],
   "source": [
    "gudong16_df.loc[gudong16_df['전용면적'] < 65.0, '전용면적'] = 0\n",
    "gudong16_df.loc[((gudong16_df['전용면적'] >=65.0 ) & (gudong16_df['전용면적'] < 99.0)) , '전용면적'] = 1\n",
    "gudong16_df.loc[((gudong16_df['전용면적'] >=99.0) & (gudong16_df['전용면적'] < 135.0)) , '전용면적'] = 2\n",
    "gudong16_df.loc[((gudong16_df['전용면적'] >=135.0) & (gudong16_df['전용면적'] < 165.0)) , '전용면적'] = 3\n",
    "gudong16_df.loc[gudong16_df['전용면적'] >= 165.0 , '전용면적'] = 4\n",
    "\n",
    "\n",
    "gudong16_df['전용면적'].value_counts()"
   ]
  },
  {
   "cell_type": "code",
   "execution_count": 13,
   "metadata": {},
   "outputs": [
    {
     "name": "stdout",
     "output_type": "stream",
     "text": [
      "<class 'pandas.core.frame.DataFrame'>\n",
      "MultiIndex: 1044 entries, (강남구, 개포동, 0.0) to (중랑구, 중화동, 1.0)\n",
      "Data columns (total 4 columns):\n",
      "(거래금액(만원), min)     1044 non-null int64\n",
      "(거래금액(만원), max)     1044 non-null int64\n",
      "(거래금액(만원), mean)    1044 non-null float64\n",
      "(계약년월, count)       1044 non-null int64\n",
      "dtypes: float64(1), int64(3)\n",
      "memory usage: 39.6+ KB\n"
     ]
    }
   ],
   "source": [
    "# 구 동 단지별 전용 면적별 최소, 최대금액 & 거랙금액 최소 최대금액 & 계약건수 확인\n",
    "gudong16_df_agg= gudong16_df.groupby(['구', '동', '전용면적']).agg({  \n",
    "                                                  '거래금액(만원)' : [min, max, (np.mean)],\n",
    "                                                  '계약년월' : 'count'\n",
    "                                                             \n",
    "                                            })\n",
    "\n",
    "gudong16_df_agg.info()\n",
    "\n",
    "# gudong16_df_agg.rename(gudong16_df_agg[key],'계약건수')"
   ]
  },
  {
   "cell_type": "code",
   "execution_count": 41,
   "metadata": {},
   "outputs": [
    {
     "data": {
      "text/html": [
       "<div>\n",
       "<style scoped>\n",
       "    .dataframe tbody tr th:only-of-type {\n",
       "        vertical-align: middle;\n",
       "    }\n",
       "\n",
       "    .dataframe tbody tr th {\n",
       "        vertical-align: top;\n",
       "    }\n",
       "\n",
       "    .dataframe thead tr th {\n",
       "        text-align: left;\n",
       "    }\n",
       "\n",
       "    .dataframe thead tr:last-of-type th {\n",
       "        text-align: right;\n",
       "    }\n",
       "</style>\n",
       "<table border=\"1\" class=\"dataframe\">\n",
       "  <thead>\n",
       "    <tr>\n",
       "      <th></th>\n",
       "      <th></th>\n",
       "      <th></th>\n",
       "      <th colspan=\"3\" halign=\"left\">거래금액(만원)</th>\n",
       "      <th>계약년월</th>\n",
       "    </tr>\n",
       "    <tr>\n",
       "      <th></th>\n",
       "      <th></th>\n",
       "      <th></th>\n",
       "      <th>min</th>\n",
       "      <th>max</th>\n",
       "      <th>mean</th>\n",
       "      <th>count</th>\n",
       "    </tr>\n",
       "    <tr>\n",
       "      <th>구</th>\n",
       "      <th>동</th>\n",
       "      <th>전용면적</th>\n",
       "      <th></th>\n",
       "      <th></th>\n",
       "      <th></th>\n",
       "      <th></th>\n",
       "    </tr>\n",
       "  </thead>\n",
       "  <tbody>\n",
       "    <tr>\n",
       "      <td rowspan=\"5\" valign=\"top\">강남구</td>\n",
       "      <td rowspan=\"5\" valign=\"top\">개포동</td>\n",
       "      <td>0.0</td>\n",
       "      <td>24000</td>\n",
       "      <td>150000</td>\n",
       "      <td>82519.949341</td>\n",
       "      <td>987</td>\n",
       "    </tr>\n",
       "    <tr>\n",
       "      <td>1.0</td>\n",
       "      <td>43000</td>\n",
       "      <td>130500</td>\n",
       "      <td>96339.795918</td>\n",
       "      <td>147</td>\n",
       "    </tr>\n",
       "    <tr>\n",
       "      <td>2.0</td>\n",
       "      <td>52000</td>\n",
       "      <td>158000</td>\n",
       "      <td>128352.222222</td>\n",
       "      <td>45</td>\n",
       "    </tr>\n",
       "    <tr>\n",
       "      <td>3.0</td>\n",
       "      <td>128250</td>\n",
       "      <td>170000</td>\n",
       "      <td>144931.818182</td>\n",
       "      <td>11</td>\n",
       "    </tr>\n",
       "    <tr>\n",
       "      <td>4.0</td>\n",
       "      <td>120000</td>\n",
       "      <td>190000</td>\n",
       "      <td>158811.111111</td>\n",
       "      <td>27</td>\n",
       "    </tr>\n",
       "    <tr>\n",
       "      <td>...</td>\n",
       "      <td>...</td>\n",
       "      <td>...</td>\n",
       "      <td>...</td>\n",
       "      <td>...</td>\n",
       "      <td>...</td>\n",
       "      <td>...</td>\n",
       "    </tr>\n",
       "    <tr>\n",
       "      <td rowspan=\"5\" valign=\"top\">중랑구</td>\n",
       "      <td rowspan=\"3\" valign=\"top\">신내동</td>\n",
       "      <td>1.0</td>\n",
       "      <td>23000</td>\n",
       "      <td>47500</td>\n",
       "      <td>35323.266219</td>\n",
       "      <td>447</td>\n",
       "    </tr>\n",
       "    <tr>\n",
       "      <td>2.0</td>\n",
       "      <td>31100</td>\n",
       "      <td>60000</td>\n",
       "      <td>43002.702703</td>\n",
       "      <td>111</td>\n",
       "    </tr>\n",
       "    <tr>\n",
       "      <td>3.0</td>\n",
       "      <td>55000</td>\n",
       "      <td>65000</td>\n",
       "      <td>57575.000000</td>\n",
       "      <td>4</td>\n",
       "    </tr>\n",
       "    <tr>\n",
       "      <td rowspan=\"2\" valign=\"top\">중화동</td>\n",
       "      <td>0.0</td>\n",
       "      <td>11700</td>\n",
       "      <td>34800</td>\n",
       "      <td>28117.234043</td>\n",
       "      <td>94</td>\n",
       "    </tr>\n",
       "    <tr>\n",
       "      <td>1.0</td>\n",
       "      <td>22300</td>\n",
       "      <td>49000</td>\n",
       "      <td>36316.355140</td>\n",
       "      <td>107</td>\n",
       "    </tr>\n",
       "  </tbody>\n",
       "</table>\n",
       "<p>1044 rows × 4 columns</p>\n",
       "</div>"
      ],
      "text/plain": [
       "             거래금액(만원)                         계약년월\n",
       "                  min     max           mean count\n",
       "구   동   전용면적                                      \n",
       "강남구 개포동 0.0     24000  150000   82519.949341   987\n",
       "        1.0     43000  130500   96339.795918   147\n",
       "        2.0     52000  158000  128352.222222    45\n",
       "        3.0    128250  170000  144931.818182    11\n",
       "        4.0    120000  190000  158811.111111    27\n",
       "...               ...     ...            ...   ...\n",
       "중랑구 신내동 1.0     23000   47500   35323.266219   447\n",
       "        2.0     31100   60000   43002.702703   111\n",
       "        3.0     55000   65000   57575.000000     4\n",
       "    중화동 0.0     11700   34800   28117.234043    94\n",
       "        1.0     22300   49000   36316.355140   107\n",
       "\n",
       "[1044 rows x 4 columns]"
      ]
     },
     "execution_count": 41,
     "metadata": {},
     "output_type": "execute_result"
    }
   ],
   "source": [
    "# 구, 동 전용면적별 최소 & 최대 & 평균금액 & 계약 건수\n",
    "gudong16_df_agg()"
   ]
  },
  {
   "cell_type": "code",
   "execution_count": 15,
   "metadata": {},
   "outputs": [
    {
     "name": "stdout",
     "output_type": "stream",
     "text": [
      "<class 'pandas.core.frame.DataFrame'>\n",
      "MultiIndex: 1044 entries, (강남구, 개포동, 0.0) to (중랑구, 중화동, 1.0)\n",
      "Data columns (total 4 columns):\n",
      "(거래금액(만원), min)     1044 non-null int64\n",
      "(거래금액(만원), max)     1044 non-null int64\n",
      "(거래금액(만원), mean)    1044 non-null float64\n",
      "(계약년월, count)       1044 non-null int64\n",
      "dtypes: float64(1), int64(3)\n",
      "memory usage: 39.6+ KB\n"
     ]
    }
   ],
   "source": [
    "gudong16_df_agg.info()"
   ]
  },
  {
   "cell_type": "code",
   "execution_count": 16,
   "metadata": {},
   "outputs": [],
   "source": [
    "# 16년도 구, 동 전용면적별 최소 & 최대 & 평균금액 & 계약 건수 파일 저장. \n",
    "gudong16_df_agg.to_csv('gudong16_df_agg2.csv', encoding='ANSI')"
   ]
  },
  {
   "cell_type": "markdown",
   "metadata": {},
   "source": [
    "gudong16_df_agg.index = list(gudong16_df_agg['계약년월'])\n",
    "gudong16_df_agg.plot.barh(title='16년도 계약 건수', figsize=(10,9), xlim=[80,105])"
   ]
  },
  {
   "cell_type": "code",
   "execution_count": 22,
   "metadata": {},
   "outputs": [
    {
     "data": {
      "text/plain": [
       "노원구     10966\n",
       "송파구      7564\n",
       "강서구      7119\n",
       "강남구      6758\n",
       "강동구      5892\n",
       "구로구      5658\n",
       "양천구      5627\n",
       "성북구      5195\n",
       "서초구      4802\n",
       "도봉구      4775\n",
       "영등포구     4656\n",
       "동작구      4616\n",
       "마포구      4238\n",
       "성동구      4024\n",
       "동대문구     3835\n",
       "은평구      3770\n",
       "서대문구     3458\n",
       "관악구      3362\n",
       "중랑구      3235\n",
       "용산구      2437\n",
       "광진구      2297\n",
       "강북구      1942\n",
       "금천구      1728\n",
       "중구       1417\n",
       "종로구       829\n",
       "Name: 구, dtype: int64"
      ]
     },
     "execution_count": 22,
     "metadata": {},
     "output_type": "execute_result"
    }
   ],
   "source": [
    "# 년도별 거래 건수. 월별 거래 건수 구하기.\n",
    "gudong16_df['구'].value_counts()"
   ]
  },
  {
   "cell_type": "code",
   "execution_count": null,
   "metadata": {},
   "outputs": [],
   "source": [
    "pop16"
   ]
  },
  {
   "cell_type": "code",
   "execution_count": null,
   "metadata": {},
   "outputs": [],
   "source": []
  },
  {
   "cell_type": "code",
   "execution_count": null,
   "metadata": {},
   "outputs": [],
   "source": []
  },
  {
   "cell_type": "code",
   "execution_count": null,
   "metadata": {},
   "outputs": [],
   "source": []
  }
 ],
 "metadata": {
  "kernelspec": {
   "display_name": "Python 3",
   "language": "python",
   "name": "python3"
  },
  "language_info": {
   "codemirror_mode": {
    "name": "ipython",
    "version": 3
   },
   "file_extension": ".py",
   "mimetype": "text/x-python",
   "name": "python",
   "nbconvert_exporter": "python",
   "pygments_lexer": "ipython3",
   "version": "3.7.4"
  }
 },
 "nbformat": 4,
 "nbformat_minor": 2
}
