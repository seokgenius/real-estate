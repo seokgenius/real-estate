{
 "cells": [
  {
   "cell_type": "code",
   "execution_count": 1,
   "metadata": {},
   "outputs": [],
   "source": [
    "import pandas as pd"
   ]
  },
  {
   "cell_type": "code",
   "execution_count": 2,
   "metadata": {},
   "outputs": [
    {
     "data": {
      "text/html": [
       "<div>\n",
       "<style scoped>\n",
       "    .dataframe tbody tr th:only-of-type {\n",
       "        vertical-align: middle;\n",
       "    }\n",
       "\n",
       "    .dataframe tbody tr th {\n",
       "        vertical-align: top;\n",
       "    }\n",
       "\n",
       "    .dataframe thead th {\n",
       "        text-align: right;\n",
       "    }\n",
       "</style>\n",
       "<table border=\"1\" class=\"dataframe\">\n",
       "  <thead>\n",
       "    <tr style=\"text-align: right;\">\n",
       "      <th></th>\n",
       "      <th>region</th>\n",
       "      <th>gasName</th>\n",
       "      <th>address</th>\n",
       "      <th>tel</th>\n",
       "    </tr>\n",
       "  </thead>\n",
       "  <tbody>\n",
       "    <tr>\n",
       "      <th>0</th>\n",
       "      <td>서울 서초구</td>\n",
       "      <td>(주)에이치앤디이-서울만남의광장</td>\n",
       "      <td>서울 서초구 양재대로12길 73-71 만남의광장</td>\n",
       "      <td>02-573-7430</td>\n",
       "    </tr>\n",
       "    <tr>\n",
       "      <th>1</th>\n",
       "      <td>서울 강남구</td>\n",
       "      <td>강남복지충전소</td>\n",
       "      <td>서울 강남구 밤고개로 200</td>\n",
       "      <td>02-445-3300</td>\n",
       "    </tr>\n",
       "    <tr>\n",
       "      <th>2</th>\n",
       "      <td>서울 강동구</td>\n",
       "      <td>암사충전소</td>\n",
       "      <td>서울 강동구 올림픽로 791 GS칼텍스</td>\n",
       "      <td>02-3427-4244</td>\n",
       "    </tr>\n",
       "    <tr>\n",
       "      <th>3</th>\n",
       "      <td>서울 강남구</td>\n",
       "      <td>(주)진양가스</td>\n",
       "      <td>서울 강남구 도곡로 142</td>\n",
       "      <td>02-3463-6811</td>\n",
       "    </tr>\n",
       "    <tr>\n",
       "      <th>4</th>\n",
       "      <td>서울 강남구</td>\n",
       "      <td>대치에너지주식회사</td>\n",
       "      <td>서울 강남구 남부순환로 3179</td>\n",
       "      <td>02-3412-2828</td>\n",
       "    </tr>\n",
       "  </tbody>\n",
       "</table>\n",
       "</div>"
      ],
      "text/plain": [
       "   region            gasName                     address           tel\n",
       "0  서울 서초구  (주)에이치앤디이-서울만남의광장  서울 서초구 양재대로12길 73-71 만남의광장   02-573-7430\n",
       "1  서울 강남구            강남복지충전소             서울 강남구 밤고개로 200   02-445-3300\n",
       "2  서울 강동구              암사충전소       서울 강동구 올림픽로 791 GS칼텍스  02-3427-4244\n",
       "3  서울 강남구            (주)진양가스              서울 강남구 도곡로 142  02-3463-6811\n",
       "4  서울 강남구          대치에너지주식회사           서울 강남구 남부순환로 3179  02-3412-2828"
      ]
     },
     "execution_count": 2,
     "metadata": {},
     "output_type": "execute_result"
    }
   ],
   "source": [
    "gas_df = pd.read_csv('gas.csv', encoding='CP949')\n",
    "gas_df.head()"
   ]
  },
  {
   "cell_type": "code",
   "execution_count": 3,
   "metadata": {},
   "outputs": [
    {
     "data": {
      "text/plain": [
       "78"
      ]
     },
     "execution_count": 3,
     "metadata": {},
     "output_type": "execute_result"
    }
   ],
   "source": [
    "len(gas_df)"
   ]
  },
  {
   "cell_type": "markdown",
   "metadata": {},
   "source": [
    "### 신주소 -> 구주소(다음지도 활용)"
   ]
  },
  {
   "cell_type": "code",
   "execution_count": 4,
   "metadata": {},
   "outputs": [],
   "source": [
    "from selenium import webdriver\n",
    "from selenium.webdriver.support.ui import Select\n",
    "import time"
   ]
  },
  {
   "cell_type": "code",
   "execution_count": 5,
   "metadata": {},
   "outputs": [],
   "source": [
    "# 웹드라이버 실행\n",
    "driver = webdriver.Chrome()"
   ]
  },
  {
   "cell_type": "code",
   "execution_count": 6,
   "metadata": {},
   "outputs": [],
   "source": [
    "# 다음 주소 사이트를 요청한다.\n",
    "driver.get('http://postcode.map.daum.net/search?origin=http%3A%2F%2Fpostcode.map.daum.net&indaum=off&banner=on&mode=view&vt=layer&am=on&ani=on&sd=on&plrg=&plrgt=1.5&hmb=off&heb=off&asea=off&smh=off&zo=on&us=on&msi=10&ahs=off&whas=500&sm=on&a51=off&region_name=%ED%8C%90%EA%B5%90%EC%97%AD%EB%A1%9C%20235&cq=%ED%8C%90%EA%B5%90%EC%97%AD%EB%A1%9C%20235&intsh=on&zn=Y&fullpath=%2Fguide')"
   ]
  },
  {
   "cell_type": "code",
   "execution_count": 8,
   "metadata": {
    "scrolled": true
   },
   "outputs": [
    {
     "name": "stdout",
     "output_type": "stream",
     "text": [
      "['원지동', '자곡동', '암사동', '도곡동', '대치동', '방배동', '대치동', '방배동', '상일동', '자곡동', '성내동', '잠원동', '잠실동', '오금동', '석촌동', '둔촌동', '장지동', '증산동', '북가좌동', '증산동', '진관동', '신정동', '신정동', '궁동', '독산동', '문래동6가', '오쇠동', '오류동', '오곡동', '양평동4가', '구로동', '가양동', '대방동', '오곡동', '등촌동', '신림동', '구로동', '신월동', '개봉동', '양평동3가', '화곡동', '신월동', '개화동', '외발산동', '봉천동', '신월동', '신정동', '개화동', '마곡동', '마곡동', '방화동', '답십리동', '신내동', '창동', '번동', '자양동', '공릉동', '번동', '면목동', '쌍문동', '수유동', '성수동2가', '휘경동', '도봉동', '상계동', '중계동', '중화동', '망우동', '공릉동', '청량리동', '성수동1가', '중곡동', '하월곡동', '장위동', '중곡동', '공릉동', '장안동']\n"
     ]
    }
   ],
   "source": [
    "# 구조소를 담을 리스트\n",
    "dong_list = []\n",
    "\n",
    "for i in range(0, len(gas_df)-1):\n",
    "    # 주소를 입력한다.\n",
    "    input_address = driver.find_element_by_css_selector('#region_name')\n",
    "    input_address.clear()\n",
    "    input_address.send_keys(gas_df['address'][i])\n",
    "    # 검색 버튼을 클릭한다.\n",
    "    search_btn = driver.find_element_by_css_selector('#searchForm > fieldset > div > button.btn_search')\n",
    "    search_btn.click()\n",
    "    time.sleep(1)\n",
    "    # 구주소 추출\n",
    "    old = driver.find_element_by_css_selector('body > div.daum_popup.animation.use_suggest.mode_view > div > div.popup_body.animate_on > ul > li').get_attribute('data-bname')\n",
    "    dong_list.append(old)\n",
    "\n",
    "print(dong_list)"
   ]
  },
  {
   "cell_type": "code",
   "execution_count": 9,
   "metadata": {},
   "outputs": [],
   "source": [
    "gas_df['dong'] = pd.Series(dong_list)"
   ]
  },
  {
   "cell_type": "code",
   "execution_count": 10,
   "metadata": {},
   "outputs": [
    {
     "data": {
      "text/html": [
       "<div>\n",
       "<style scoped>\n",
       "    .dataframe tbody tr th:only-of-type {\n",
       "        vertical-align: middle;\n",
       "    }\n",
       "\n",
       "    .dataframe tbody tr th {\n",
       "        vertical-align: top;\n",
       "    }\n",
       "\n",
       "    .dataframe thead th {\n",
       "        text-align: right;\n",
       "    }\n",
       "</style>\n",
       "<table border=\"1\" class=\"dataframe\">\n",
       "  <thead>\n",
       "    <tr style=\"text-align: right;\">\n",
       "      <th></th>\n",
       "      <th>region</th>\n",
       "      <th>gasName</th>\n",
       "      <th>address</th>\n",
       "      <th>tel</th>\n",
       "      <th>dong</th>\n",
       "    </tr>\n",
       "  </thead>\n",
       "  <tbody>\n",
       "    <tr>\n",
       "      <th>0</th>\n",
       "      <td>서울 서초구</td>\n",
       "      <td>(주)에이치앤디이-서울만남의광장</td>\n",
       "      <td>서울 서초구 양재대로12길 73-71 만남의광장</td>\n",
       "      <td>02-573-7430</td>\n",
       "      <td>원지동</td>\n",
       "    </tr>\n",
       "    <tr>\n",
       "      <th>1</th>\n",
       "      <td>서울 강남구</td>\n",
       "      <td>강남복지충전소</td>\n",
       "      <td>서울 강남구 밤고개로 200</td>\n",
       "      <td>02-445-3300</td>\n",
       "      <td>자곡동</td>\n",
       "    </tr>\n",
       "    <tr>\n",
       "      <th>2</th>\n",
       "      <td>서울 강동구</td>\n",
       "      <td>암사충전소</td>\n",
       "      <td>서울 강동구 올림픽로 791 GS칼텍스</td>\n",
       "      <td>02-3427-4244</td>\n",
       "      <td>암사동</td>\n",
       "    </tr>\n",
       "    <tr>\n",
       "      <th>3</th>\n",
       "      <td>서울 강남구</td>\n",
       "      <td>(주)진양가스</td>\n",
       "      <td>서울 강남구 도곡로 142</td>\n",
       "      <td>02-3463-6811</td>\n",
       "      <td>도곡동</td>\n",
       "    </tr>\n",
       "    <tr>\n",
       "      <th>4</th>\n",
       "      <td>서울 강남구</td>\n",
       "      <td>대치에너지주식회사</td>\n",
       "      <td>서울 강남구 남부순환로 3179</td>\n",
       "      <td>02-3412-2828</td>\n",
       "      <td>대치동</td>\n",
       "    </tr>\n",
       "  </tbody>\n",
       "</table>\n",
       "</div>"
      ],
      "text/plain": [
       "   region            gasName                     address           tel dong\n",
       "0  서울 서초구  (주)에이치앤디이-서울만남의광장  서울 서초구 양재대로12길 73-71 만남의광장   02-573-7430  원지동\n",
       "1  서울 강남구            강남복지충전소             서울 강남구 밤고개로 200   02-445-3300  자곡동\n",
       "2  서울 강동구              암사충전소       서울 강동구 올림픽로 791 GS칼텍스  02-3427-4244  암사동\n",
       "3  서울 강남구            (주)진양가스              서울 강남구 도곡로 142  02-3463-6811  도곡동\n",
       "4  서울 강남구          대치에너지주식회사           서울 강남구 남부순환로 3179  02-3412-2828  대치동"
      ]
     },
     "execution_count": 10,
     "metadata": {},
     "output_type": "execute_result"
    }
   ],
   "source": [
    "gas_df.head()"
   ]
  },
  {
   "cell_type": "code",
   "execution_count": 11,
   "metadata": {},
   "outputs": [
    {
     "data": {
      "text/plain": [
       "신월동      3\n",
       "신정동      3\n",
       "공릉동      3\n",
       "오곡동      2\n",
       "중곡동      2\n",
       "대치동      2\n",
       "구로동      2\n",
       "번동       2\n",
       "증산동      2\n",
       "개화동      2\n",
       "방배동      2\n",
       "마곡동      2\n",
       "자곡동      2\n",
       "쌍문동      1\n",
       "원지동      1\n",
       "도곡동      1\n",
       "수유동      1\n",
       "대방동      1\n",
       "하월곡동     1\n",
       "가양동      1\n",
       "화곡동      1\n",
       "둔촌동      1\n",
       "양평동3가    1\n",
       "신림동      1\n",
       "등촌동      1\n",
       "청량리동     1\n",
       "휘경동      1\n",
       "도봉동      1\n",
       "망우동      1\n",
       "장지동      1\n",
       "        ..\n",
       "답십리동     1\n",
       "북가좌동     1\n",
       "신내동      1\n",
       "문래동6가    1\n",
       "면목동      1\n",
       "상일동      1\n",
       "성수동1가    1\n",
       "성수동2가    1\n",
       "오쇠동      1\n",
       "독산동      1\n",
       "자양동      1\n",
       "중화동      1\n",
       "개봉동      1\n",
       "상계동      1\n",
       "중계동      1\n",
       "잠실동      1\n",
       "암사동      1\n",
       "양평동4가    1\n",
       "잠원동      1\n",
       "방화동      1\n",
       "외발산동     1\n",
       "성내동      1\n",
       "장안동      1\n",
       "궁동       1\n",
       "봉천동      1\n",
       "오류동      1\n",
       "오금동      1\n",
       "진관동      1\n",
       "석촌동      1\n",
       "창동       1\n",
       "Name: dong, Length: 61, dtype: int64"
      ]
     },
     "execution_count": 11,
     "metadata": {},
     "output_type": "execute_result"
    }
   ],
   "source": [
    "gas_df['dong'].value_counts()"
   ]
  },
  {
   "cell_type": "code",
   "execution_count": null,
   "metadata": {},
   "outputs": [],
   "source": []
  },
  {
   "cell_type": "code",
   "execution_count": null,
   "metadata": {},
   "outputs": [],
   "source": []
  },
  {
   "cell_type": "code",
   "execution_count": null,
   "metadata": {},
   "outputs": [],
   "source": []
  }
 ],
 "metadata": {
  "kernelspec": {
   "display_name": "Python 3",
   "language": "python",
   "name": "python3"
  },
  "language_info": {
   "codemirror_mode": {
    "name": "ipython",
    "version": 3
   },
   "file_extension": ".py",
   "mimetype": "text/x-python",
   "name": "python",
   "nbconvert_exporter": "python",
   "pygments_lexer": "ipython3",
   "version": "3.6.5"
  }
 },
 "nbformat": 4,
 "nbformat_minor": 2
}
