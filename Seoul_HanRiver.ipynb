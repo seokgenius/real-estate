{
 "cells": [
  {
   "cell_type": "markdown",
   "metadata": {},
   "source": [
    "# 한강 인접 자치구 자료\n",
    "서울시 자치구 중 한강에 맞닿는 자치구에 대한 데이터셋입니다.\n",
    "0 : 맞닿지 않는 자치구\n",
    "1 : 인접한 자치구"
   ]
  },
  {
   "cell_type": "markdown",
   "metadata": {},
   "source": [
    "한강 인접 자치구 DataFrame 생성"
   ]
  },
  {
   "cell_type": "code",
   "execution_count": 8,
   "metadata": {},
   "outputs": [],
   "source": [
    "import pandas as pd"
   ]
  },
  {
   "cell_type": "code",
   "execution_count": 9,
   "metadata": {},
   "outputs": [
    {
     "data": {
      "text/html": [
       "<div>\n",
       "<style scoped>\n",
       "    .dataframe tbody tr th:only-of-type {\n",
       "        vertical-align: middle;\n",
       "    }\n",
       "\n",
       "    .dataframe tbody tr th {\n",
       "        vertical-align: top;\n",
       "    }\n",
       "\n",
       "    .dataframe thead th {\n",
       "        text-align: right;\n",
       "    }\n",
       "</style>\n",
       "<table border=\"1\" class=\"dataframe\">\n",
       "  <thead>\n",
       "    <tr style=\"text-align: right;\">\n",
       "      <th></th>\n",
       "      <th>district</th>\n",
       "      <th>Hanriver</th>\n",
       "    </tr>\n",
       "  </thead>\n",
       "  <tbody>\n",
       "    <tr>\n",
       "      <td>0</td>\n",
       "      <td>강동구</td>\n",
       "      <td>1</td>\n",
       "    </tr>\n",
       "    <tr>\n",
       "      <td>1</td>\n",
       "      <td>강북구</td>\n",
       "      <td>0</td>\n",
       "    </tr>\n",
       "    <tr>\n",
       "      <td>2</td>\n",
       "      <td>광진구</td>\n",
       "      <td>1</td>\n",
       "    </tr>\n",
       "    <tr>\n",
       "      <td>3</td>\n",
       "      <td>동대문구</td>\n",
       "      <td>0</td>\n",
       "    </tr>\n",
       "    <tr>\n",
       "      <td>4</td>\n",
       "      <td>동작구</td>\n",
       "      <td>1</td>\n",
       "    </tr>\n",
       "  </tbody>\n",
       "</table>\n",
       "</div>"
      ],
      "text/plain": [
       "  district  Hanriver\n",
       "0      강동구         1\n",
       "1      강북구         0\n",
       "2      광진구         1\n",
       "3     동대문구         0\n",
       "4      동작구         1"
      ]
     },
     "execution_count": 9,
     "metadata": {},
     "output_type": "execute_result"
    }
   ],
   "source": [
    "hanriver = [\n",
    "     ['강동구',1],\n",
    "    ['강북구',0],\n",
    "    ['광진구',1],\n",
    "    ['동대문구',0],\n",
    "    ['동작구',1],\n",
    "    ['마포구',1],\n",
    "    ['서대문구',0],\n",
    "    ['성동구',1],\n",
    "    ['성북구', 0],\n",
    "    ['양천구',0],\n",
    "    ['영등포구', 1],\n",
    "    ['용산구',1],\n",
    "    ['은평구',0],\n",
    "    ['종로구',0],\n",
    "    ['중구',0],\n",
    "    ['중랑구',0],\n",
    "    ['관악구', 0],\n",
    "    ['구로구', 0],\n",
    "    ['금천구', 0],\n",
    "    ['노원구', 0],\n",
    "    ['도봉구', 0],\n",
    "    ['송파구', 1],\n",
    "    ['강남구', 1],\n",
    "    ['강서구',1],\n",
    "    ['서초구',1]]\n",
    "    \n",
    "option1=['district', 'Hanriver']\n",
    "han_df = pd.DataFrame(hanriver, columns=option1)\n",
    "han_df.head()"
   ]
  },
  {
   "cell_type": "code",
   "execution_count": 10,
   "metadata": {},
   "outputs": [],
   "source": [
    "# 데이터 저장\n",
    "han_df.to_csv('han_df.csv', encoding='utf-8-sig', index=False)"
   ]
  },
  {
   "cell_type": "code",
   "execution_count": null,
   "metadata": {},
   "outputs": [],
   "source": []
  }
 ],
 "metadata": {
  "kernelspec": {
   "display_name": "Python 3",
   "language": "python",
   "name": "python3"
  },
  "language_info": {
   "codemirror_mode": {
    "name": "ipython",
    "version": 3
   },
   "file_extension": ".py",
   "mimetype": "text/x-python",
   "name": "python",
   "nbconvert_exporter": "python",
   "pygments_lexer": "ipython3",
   "version": "3.7.4"
  }
 },
 "nbformat": 4,
 "nbformat_minor": 2
}
