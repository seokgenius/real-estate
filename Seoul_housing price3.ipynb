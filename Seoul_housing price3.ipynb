{
 "cells": [
  {
   "cell_type": "markdown",
   "metadata": {},
   "source": [
    "# 기준 년도에 따른 면적별 가격변동수치 분석3 (2016 ~ 2019)\n",
    "1. 기준 지역 : 서울시 자치구별 지역\n",
    "\n",
    "\n",
    "2. 기준 년도 : 2016, 2017, 2018, 2019\n",
    "\n",
    "\n",
    "3. 전용면적 기준 ->\n",
    "   65이하 전용면적 0 \n",
    "   - 65이상 99미만  전용면적 1\n",
    "   - 99이상 135미만 전용면적 2\n",
    "   - 135이상 165미만 전용면적 3\n",
    "   - 165이상 전용면적 4"
   ]
  },
  {
   "cell_type": "markdown",
   "metadata": {},
   "source": [
    "### 4. 기준 년도별 가격 변동수치 시각화"
   ]
  },
  {
   "cell_type": "code",
   "execution_count": 1,
   "metadata": {},
   "outputs": [
    {
     "data": {
      "text/html": [
       "<div>\n",
       "<style scoped>\n",
       "    .dataframe tbody tr th:only-of-type {\n",
       "        vertical-align: middle;\n",
       "    }\n",
       "\n",
       "    .dataframe tbody tr th {\n",
       "        vertical-align: top;\n",
       "    }\n",
       "\n",
       "    .dataframe thead th {\n",
       "        text-align: right;\n",
       "    }\n",
       "</style>\n",
       "<table border=\"1\" class=\"dataframe\">\n",
       "  <thead>\n",
       "    <tr style=\"text-align: right;\">\n",
       "      <th></th>\n",
       "      <th>Unnamed: 0</th>\n",
       "      <th>기간</th>\n",
       "      <th>구</th>\n",
       "      <th>전용면적</th>\n",
       "      <th>거래금액</th>\n",
       "    </tr>\n",
       "  </thead>\n",
       "  <tbody>\n",
       "    <tr>\n",
       "      <th>0</th>\n",
       "      <td>0</td>\n",
       "      <td>2016</td>\n",
       "      <td>강남구</td>\n",
       "      <td>1.0</td>\n",
       "      <td>75000</td>\n",
       "    </tr>\n",
       "    <tr>\n",
       "      <th>1</th>\n",
       "      <td>1</td>\n",
       "      <td>2016</td>\n",
       "      <td>강남구</td>\n",
       "      <td>1.0</td>\n",
       "      <td>71000</td>\n",
       "    </tr>\n",
       "    <tr>\n",
       "      <th>2</th>\n",
       "      <td>2</td>\n",
       "      <td>2016</td>\n",
       "      <td>강남구</td>\n",
       "      <td>1.0</td>\n",
       "      <td>76900</td>\n",
       "    </tr>\n",
       "    <tr>\n",
       "      <th>3</th>\n",
       "      <td>3</td>\n",
       "      <td>2016</td>\n",
       "      <td>강남구</td>\n",
       "      <td>1.0</td>\n",
       "      <td>75500</td>\n",
       "    </tr>\n",
       "    <tr>\n",
       "      <th>4</th>\n",
       "      <td>4</td>\n",
       "      <td>2016</td>\n",
       "      <td>강남구</td>\n",
       "      <td>1.0</td>\n",
       "      <td>80000</td>\n",
       "    </tr>\n",
       "    <tr>\n",
       "      <th>...</th>\n",
       "      <td>...</td>\n",
       "      <td>...</td>\n",
       "      <td>...</td>\n",
       "      <td>...</td>\n",
       "      <td>...</td>\n",
       "    </tr>\n",
       "    <tr>\n",
       "      <th>375707</th>\n",
       "      <td>73920</td>\n",
       "      <td>2019</td>\n",
       "      <td>중랑구</td>\n",
       "      <td>0.0</td>\n",
       "      <td>45700</td>\n",
       "    </tr>\n",
       "    <tr>\n",
       "      <th>375708</th>\n",
       "      <td>73921</td>\n",
       "      <td>2019</td>\n",
       "      <td>중랑구</td>\n",
       "      <td>1.0</td>\n",
       "      <td>35000</td>\n",
       "    </tr>\n",
       "    <tr>\n",
       "      <th>375709</th>\n",
       "      <td>73922</td>\n",
       "      <td>2019</td>\n",
       "      <td>중랑구</td>\n",
       "      <td>0.0</td>\n",
       "      <td>25800</td>\n",
       "    </tr>\n",
       "    <tr>\n",
       "      <th>375710</th>\n",
       "      <td>73923</td>\n",
       "      <td>2019</td>\n",
       "      <td>중랑구</td>\n",
       "      <td>1.0</td>\n",
       "      <td>34500</td>\n",
       "    </tr>\n",
       "    <tr>\n",
       "      <th>375711</th>\n",
       "      <td>73924</td>\n",
       "      <td>2019</td>\n",
       "      <td>중랑구</td>\n",
       "      <td>0.0</td>\n",
       "      <td>32800</td>\n",
       "    </tr>\n",
       "  </tbody>\n",
       "</table>\n",
       "<p>375712 rows × 5 columns</p>\n",
       "</div>"
      ],
      "text/plain": [
       "        Unnamed: 0    기간    구  전용면적   거래금액\n",
       "0                0  2016  강남구   1.0  75000\n",
       "1                1  2016  강남구   1.0  71000\n",
       "2                2  2016  강남구   1.0  76900\n",
       "3                3  2016  강남구   1.0  75500\n",
       "4                4  2016  강남구   1.0  80000\n",
       "...            ...   ...  ...   ...    ...\n",
       "375707       73920  2019  중랑구   0.0  45700\n",
       "375708       73921  2019  중랑구   1.0  35000\n",
       "375709       73922  2019  중랑구   0.0  25800\n",
       "375710       73923  2019  중랑구   1.0  34500\n",
       "375711       73924  2019  중랑구   0.0  32800\n",
       "\n",
       "[375712 rows x 5 columns]"
      ]
     },
     "execution_count": 1,
     "metadata": {},
     "output_type": "execute_result"
    }
   ],
   "source": [
    "import pandas as pd\n",
    "import numpy as np\n",
    "\n",
    "tot_apart_df = pd.read_csv('tot_apart_df.csv')\n",
    "tot_apart_df"
   ]
  },
  {
   "cell_type": "code",
   "execution_count": 2,
   "metadata": {},
   "outputs": [
    {
     "data": {
      "text/plain": [
       "array(['강남구', '강동구', '강북구', '강서구', '관악구', '광진구', '구로구', '금천구', '노원구',\n",
       "       '도봉구', '동대문구', '동작구', '마포구', '서대문구', '서초구', '성동구', '성북구', '송파구',\n",
       "       '양천구', '영등포구', '용산구', '은평구', '종로구', '중구', '중랑구', nan], dtype=object)"
      ]
     },
     "execution_count": 2,
     "metadata": {},
     "output_type": "execute_result"
    }
   ],
   "source": [
    "tot_apart_df['구'].unique()"
   ]
  },
  {
   "cell_type": "markdown",
   "metadata": {},
   "source": [
    "### 2016 년도"
   ]
  },
  {
   "cell_type": "code",
   "execution_count": 3,
   "metadata": {},
   "outputs": [],
   "source": [
    "# 2016년도\n",
    "df_tot = []\n",
    "name = tot_apart_df['구'].unique()\n",
    "name = name.tolist()\n",
    "\n",
    "for i in name:\n",
    "    df_tot.append(tot_apart_df[tot_apart_df['구'] == i])\n",
    "\n",
    "# 기간별 (16', 17', 18', 19')\n",
    "df_list = []\n",
    "a = df_tot[0].groupby('기간')\n",
    "for i in a:\n",
    "    df_list.append(i)\n",
    "\n",
    "# 전용면적 (0, 1, 2, 3, 4)\n",
    "area_list = []\n",
    "b = df_list[0][1].groupby('전용면적')\n",
    "for i in b:\n",
    "    area_list.append(i)"
   ]
  },
  {
   "cell_type": "code",
   "execution_count": 4,
   "metadata": {},
   "outputs": [
    {
     "data": {
      "text/html": [
       "<div>\n",
       "<style scoped>\n",
       "    .dataframe tbody tr th:only-of-type {\n",
       "        vertical-align: middle;\n",
       "    }\n",
       "\n",
       "    .dataframe tbody tr th {\n",
       "        vertical-align: top;\n",
       "    }\n",
       "\n",
       "    .dataframe thead th {\n",
       "        text-align: right;\n",
       "    }\n",
       "</style>\n",
       "<table border=\"1\" class=\"dataframe\">\n",
       "  <thead>\n",
       "    <tr style=\"text-align: right;\">\n",
       "      <th></th>\n",
       "      <th>Unnamed: 0</th>\n",
       "      <th>기간</th>\n",
       "      <th>구</th>\n",
       "      <th>전용면적</th>\n",
       "      <th>거래금액</th>\n",
       "    </tr>\n",
       "  </thead>\n",
       "  <tbody>\n",
       "    <tr>\n",
       "      <th>0</th>\n",
       "      <td>0</td>\n",
       "      <td>2016</td>\n",
       "      <td>강남구</td>\n",
       "      <td>1.0</td>\n",
       "      <td>75000</td>\n",
       "    </tr>\n",
       "    <tr>\n",
       "      <th>1</th>\n",
       "      <td>1</td>\n",
       "      <td>2016</td>\n",
       "      <td>강남구</td>\n",
       "      <td>1.0</td>\n",
       "      <td>71000</td>\n",
       "    </tr>\n",
       "    <tr>\n",
       "      <th>2</th>\n",
       "      <td>2</td>\n",
       "      <td>2016</td>\n",
       "      <td>강남구</td>\n",
       "      <td>1.0</td>\n",
       "      <td>76900</td>\n",
       "    </tr>\n",
       "    <tr>\n",
       "      <th>3</th>\n",
       "      <td>3</td>\n",
       "      <td>2016</td>\n",
       "      <td>강남구</td>\n",
       "      <td>1.0</td>\n",
       "      <td>75500</td>\n",
       "    </tr>\n",
       "    <tr>\n",
       "      <th>4</th>\n",
       "      <td>4</td>\n",
       "      <td>2016</td>\n",
       "      <td>강남구</td>\n",
       "      <td>1.0</td>\n",
       "      <td>80000</td>\n",
       "    </tr>\n",
       "    <tr>\n",
       "      <th>...</th>\n",
       "      <td>...</td>\n",
       "      <td>...</td>\n",
       "      <td>...</td>\n",
       "      <td>...</td>\n",
       "      <td>...</td>\n",
       "    </tr>\n",
       "    <tr>\n",
       "      <th>306363</th>\n",
       "      <td>4576</td>\n",
       "      <td>2019</td>\n",
       "      <td>강남구</td>\n",
       "      <td>4.0</td>\n",
       "      <td>530000</td>\n",
       "    </tr>\n",
       "    <tr>\n",
       "      <th>306364</th>\n",
       "      <td>4577</td>\n",
       "      <td>2019</td>\n",
       "      <td>강남구</td>\n",
       "      <td>0.0</td>\n",
       "      <td>54500</td>\n",
       "    </tr>\n",
       "    <tr>\n",
       "      <th>306365</th>\n",
       "      <td>4578</td>\n",
       "      <td>2019</td>\n",
       "      <td>강남구</td>\n",
       "      <td>0.0</td>\n",
       "      <td>58000</td>\n",
       "    </tr>\n",
       "    <tr>\n",
       "      <th>306366</th>\n",
       "      <td>4579</td>\n",
       "      <td>2019</td>\n",
       "      <td>강남구</td>\n",
       "      <td>0.0</td>\n",
       "      <td>57000</td>\n",
       "    </tr>\n",
       "    <tr>\n",
       "      <th>306367</th>\n",
       "      <td>4580</td>\n",
       "      <td>2019</td>\n",
       "      <td>강남구</td>\n",
       "      <td>4.0</td>\n",
       "      <td>250000</td>\n",
       "    </tr>\n",
       "  </tbody>\n",
       "</table>\n",
       "<p>22119 rows × 5 columns</p>\n",
       "</div>"
      ],
      "text/plain": [
       "        Unnamed: 0    기간    구  전용면적    거래금액\n",
       "0                0  2016  강남구   1.0   75000\n",
       "1                1  2016  강남구   1.0   71000\n",
       "2                2  2016  강남구   1.0   76900\n",
       "3                3  2016  강남구   1.0   75500\n",
       "4                4  2016  강남구   1.0   80000\n",
       "...            ...   ...  ...   ...     ...\n",
       "306363        4576  2019  강남구   4.0  530000\n",
       "306364        4577  2019  강남구   0.0   54500\n",
       "306365        4578  2019  강남구   0.0   58000\n",
       "306366        4579  2019  강남구   0.0   57000\n",
       "306367        4580  2019  강남구   4.0  250000\n",
       "\n",
       "[22119 rows x 5 columns]"
      ]
     },
     "execution_count": 4,
     "metadata": {},
     "output_type": "execute_result"
    }
   ],
   "source": [
    "df_tot[0]"
   ]
  },
  {
   "cell_type": "markdown",
   "metadata": {},
   "source": [
    "### 2017 년도"
   ]
  },
  {
   "cell_type": "code",
   "execution_count": 5,
   "metadata": {},
   "outputs": [],
   "source": [
    "# 2017년도\n",
    "df_tot = []\n",
    "name = tot_apart_df['구'].unique()\n",
    "name = name.tolist()\n",
    "\n",
    "for i in name:\n",
    "    df_tot.append(tot_apart_df[tot_apart_df['구'] == i])\n",
    "\n",
    "# 기간별 (16', 17', 18', 19')\n",
    "df_list1 = []\n",
    "a = df_tot[0].groupby('기간')\n",
    "for i in a:\n",
    "    df_list1.append(i)\n",
    "\n",
    "# 전용면적 (0, 1, 2, 3, 4)\n",
    "area_list1 = []\n",
    "b = df_list1[1][1].groupby('전용면적')\n",
    "for i in b:\n",
    "    area_list1.append(i)"
   ]
  },
  {
   "cell_type": "markdown",
   "metadata": {},
   "source": [
    "### 2018 년도"
   ]
  },
  {
   "cell_type": "code",
   "execution_count": 6,
   "metadata": {},
   "outputs": [],
   "source": [
    "# 2018년\n",
    "df_tot = []\n",
    "name = tot_apart_df['구'].unique()\n",
    "name = name.tolist()\n",
    "\n",
    "for i in name:\n",
    "    df_tot.append(tot_apart_df[tot_apart_df['구'] == i])\n",
    "\n",
    "# 기간별 (16', 17', 18', 19')\n",
    "df_list2 = []\n",
    "a = df_tot[0].groupby('기간')\n",
    "for i in a:\n",
    "    df_list2.append(i)\n",
    "\n",
    "# 전용면적 (0, 1, 2, 3, 4)\n",
    "area_list2 = []\n",
    "b = df_list2[2][1].groupby('전용면적')\n",
    "for i in b:\n",
    "    area_list2.append(i)"
   ]
  },
  {
   "cell_type": "markdown",
   "metadata": {},
   "source": [
    "### 2019 년도"
   ]
  },
  {
   "cell_type": "code",
   "execution_count": 7,
   "metadata": {},
   "outputs": [],
   "source": [
    "# 2019년\n",
    "df_tot = []\n",
    "name = tot_apart_df['구'].unique()\n",
    "name = name.tolist()\n",
    "\n",
    "for i in name:\n",
    "    df_tot.append(tot_apart_df[tot_apart_df['구'] == i])\n",
    "\n",
    "# 기간별 (16', 17', 18', 19')\n",
    "df_list3 = []\n",
    "a = df_tot[0].groupby('기간')\n",
    "for i in a:\n",
    "    df_list3.append(i)\n",
    "\n",
    "# 전용면적 (0, 1, 2, 3, 4)\n",
    "area_list3 = []\n",
    "b = df_list3[3][1].groupby('전용면적')\n",
    "for i in b:\n",
    "    area_list3.append(i)"
   ]
  },
  {
   "cell_type": "markdown",
   "metadata": {},
   "source": [
    "### 년도별로 따른 거래금액 평균구하기"
   ]
  },
  {
   "cell_type": "code",
   "execution_count": 8,
   "metadata": {},
   "outputs": [],
   "source": [
    "# 2016\n",
    "df_2016_00 = area_list[0][1]['거래금액'].mean()\n",
    "df_2016_01 = area_list[1][1]['거래금액'].mean()\n",
    "df_2016_02 = area_list[2][1]['거래금액'].mean()\n",
    "df_2016_03 = area_list[3][1]['거래금액'].mean()\n",
    "df_2016_04 = area_list[4][1]['거래금액'].mean()\n",
    "\n",
    "# 2017\n",
    "df_2017_00 = area_list1[0][1]['거래금액'].mean()\n",
    "df_2017_01 = area_list1[1][1]['거래금액'].mean()\n",
    "df_2017_02 = area_list1[2][1]['거래금액'].mean()\n",
    "df_2017_03 = area_list1[3][1]['거래금액'].mean()\n",
    "df_2017_04 = area_list1[4][1]['거래금액'].mean()\n",
    "\n",
    "# 2018\n",
    "df_2018_00 = area_list2[0][1]['거래금액'].mean()\n",
    "df_2018_01 = area_list2[1][1]['거래금액'].mean()\n",
    "df_2018_02 = area_list2[2][1]['거래금액'].mean()\n",
    "df_2018_03 = area_list2[3][1]['거래금액'].mean()\n",
    "df_2018_04 = area_list2[4][1]['거래금액'].mean()\n",
    "\n",
    "#2019\n",
    "df_2019_00 = area_list3[0][1]['거래금액'].mean()\n",
    "df_2019_01 = area_list3[1][1]['거래금액'].mean()\n",
    "df_2019_02 = area_list3[2][1]['거래금액'].mean()\n",
    "df_2019_03 = area_list3[3][1]['거래금액'].mean()\n",
    "df_2019_04 = area_list3[4][1]['거래금액'].mean()"
   ]
  },
  {
   "cell_type": "code",
   "execution_count": 9,
   "metadata": {},
   "outputs": [],
   "source": [
    "import numpy as np\n",
    "import pandas as pd\n",
    "import matplotlib.pyplot as plt\n",
    "from matplotlib import font_manager, rc\n",
    "import matplotlib.legend as legend\n",
    "\n",
    "\n",
    "# 한글 폰트 문제 해결하기\n",
    "font_name = font_manager.FontProperties(fname='c:/Windows/Fonts/malgun.ttf').get_name()\n",
    "rc('font', family=font_name)\n",
    "\n",
    "%matplotlib inline"
   ]
  },
  {
   "cell_type": "markdown",
   "metadata": {},
   "source": [
    "### 강남구 기준일때 시각화"
   ]
  },
  {
   "cell_type": "code",
   "execution_count": 10,
   "metadata": {},
   "outputs": [
    {
     "name": "stdout",
     "output_type": "stream",
     "text": [
      "[(2016, [68654.0370212766, 99952.52847965738, 131637.54901960783, 180527.04015296366, 245572.8909090909]), (2017, [95107.61974977658, 107212.22583201267, 109465.76754668384, 103678.14152410575, 102874.96732026144]), (2018, [92489.67896311067, 145284.35230125522, 178850.3318903319, 226296.74185463658, 264050.88495575223]), (2019, [116918.04239766081, 172226.21728691476, 212663.9614074915, 264077.2621809745, 324248.5106382979])]\n",
      "(2016, 2017, 2018, 2019)\n",
      "([68654.0370212766, 99952.52847965738, 131637.54901960783, 180527.04015296366, 245572.8909090909], [95107.61974977658, 107212.22583201267, 109465.76754668384, 103678.14152410575, 102874.96732026144], [92489.67896311067, 145284.35230125522, 178850.3318903319, 226296.74185463658, 264050.88495575223], [116918.04239766081, 172226.21728691476, 212663.9614074915, 264077.2621809745, 324248.5106382979])\n"
     ]
    },
    {
     "data": {
      "image/png": "[encoded data removed]",
      "text/plain": [
       "<Figure size 432x288 with 1 Axes>"
      ]
     },
     "metadata": {
      "needs_background": "light"
     },
     "output_type": "display_data"
    }
   ],
   "source": [
    "apart16 = [df_2016_00, df_2016_01, df_2016_02, df_2016_03, df_2016_04] #2016\n",
    "apart17 = [df_2017_00, df_2017_01, df_2017_02, df_2017_03, df_2017_04] #2017\n",
    "apart18 = [df_2018_00, df_2018_01, df_2018_02, df_2018_03, df_2018_04] #2018\n",
    "apart19 = [df_2019_00, df_2019_01, df_2019_02, df_2019_03, df_2019_04] #2019\n",
    "\n",
    "\n",
    "a = {2016:apart16, 2017:apart17, 2018:apart18, 2019:apart19}\n",
    "lists = sorted(a.items()) # sorted : 정렬, 실제로 데이터에 저장하지는 않고 정렬하는거. / sort\n",
    "print(lists)\n",
    "x, y = zip(*lists)\n",
    "print(x)\n",
    "print(y)\n",
    "\n",
    "plt.title(\"<강남구> 기준년도에 따른 면적별 주택가격변동추이\", size=12)\n",
    "plt.plot(x, y)\n",
    "\n",
    "plt.legend(['65이하 면적(단위:m^2)', '65이상 99미만 면적',\n",
    "            '99이상 135미만 면적', \n",
    "            '135이상 165미만 면적', \n",
    "            '165이상 면적'])\n",
    "\n",
    "plt.show()"
   ]
  },
  {
   "cell_type": "code",
   "execution_count": null,
   "metadata": {},
   "outputs": [],
   "source": []
  }
 ],
 "metadata": {
  "kernelspec": {
   "display_name": "Python 3",
   "language": "python",
   "name": "python3"
  },
  "language_info": {
   "codemirror_mode": {
    "name": "ipython",
    "version": 3
   },
   "file_extension": ".py",
   "mimetype": "text/x-python",
   "name": "python",
   "nbconvert_exporter": "python",
   "pygments_lexer": "ipython3",
   "version": "3.7.6"
  }
 },
 "nbformat": 4,
 "nbformat_minor": 4
}
