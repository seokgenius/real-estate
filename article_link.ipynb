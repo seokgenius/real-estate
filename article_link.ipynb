{
 "cells": [
  {
   "cell_type": "code",
   "execution_count": 1,
   "metadata": {},
   "outputs": [],
   "source": [
    "import bs4\n",
    "import requests\n",
    "import time\n",
    "import pandas as pd\n",
    "import os"
   ]
  },
  {
   "cell_type": "code",
   "execution_count": 2,
   "metadata": {},
   "outputs": [
    {
     "name": "stdout",
     "output_type": "stream",
     "text": [
      "Requirement already satisfied: selenium in c:\\anaconda\\lib\\site-packages (3.141.0)\n",
      "Requirement already satisfied: urllib3 in c:\\anaconda\\lib\\site-packages (from selenium) (1.24.2)\n",
      "Note: you may need to restart the kernel to use updated packages.\n"
     ]
    }
   ],
   "source": [
    "pip install selenium"
   ]
  },
  {
   "cell_type": "code",
   "execution_count": 3,
   "metadata": {},
   "outputs": [],
   "source": [
    "from selenium import webdriver"
   ]
  },
  {
   "cell_type": "code",
   "execution_count": 4,
   "metadata": {},
   "outputs": [],
   "source": [
    "def article_save(keyword1, keyword2, keyword3, start, end, cnt):\n",
    "    \n",
    "    time.sleep(3)\n",
    "    site = f'https://www.google.com/search?q={keyword1}%26{keyword2}%26{keyword3}&tbs=cdr:1,cd_min:{start},cd_max:{end}&tbm=nws&ei=P6E3XseGO9GnoAT6wbWADg&start={cnt}&sa=N&ved=0ahUKEwiHounBxbTnAhXRE4gKHfpgDeA4FBDy0wMIVw&biw=334&bih=695&dpr=1'\n",
    "    driver.get(site)\n",
    "    \n",
    "    # 내부에 있는 기사 제목(h3 태그)들을 가져온다.\n",
    "    div_tag = driver.find_element_by_css_selector('#rso > div')\n",
    "    h3_list = div_tag.find_elements_by_css_selector('div:nth-child(1) > div > h3')\n",
    "    \n",
    "    # 기사 제목과 링크 주소를 저장하는 딕셔너리\n",
    "    data_dic = { 'title' : [], 'link' : [] }\n",
    "\n",
    "    for h3_tag in h3_list:\n",
    "        # 기사 제목을 가져온다.\n",
    "        a_list = h3_tag.find_element_by_css_selector('a')\n",
    "        title_list = a_list.text.strip()\n",
    "        data_dic['title'].append(title_list)\n",
    "        \n",
    "    for i in range(1,11,1):\n",
    "        # 기사 링크를 가져온다.\n",
    "        link = driver.find_element_by_xpath(f'//*[@id=\"rso\"]/div/div[{i}]/div/div[1]/h3/a')\n",
    "        link_list = link.get_attribute('href')\n",
    "        data_dic['link'].append(link_list)\n",
    "    \n",
    "    # 기사 제목과 링크를 csv파일로 저장\n",
    "    df1 = pd.DataFrame.from_dict(data_dic)\n",
    "    df1.to_csv('article.csv', encoding='utf-8-sig', mode='a', index=False)\n",
    "    print('저장완료')"
   ]
  },
  {
   "cell_type": "code",
   "execution_count": 5,
   "metadata": {},
   "outputs": [],
   "source": [
    "driver = webdriver.Chrome()\n",
    "\n",
    "def article_search():   \n",
    "    # 검색어와 기간을 입력한다.\n",
    "    keyword1 = input('검색어1 : ')\n",
    "    keyword2 = input('검색어2 : ')\n",
    "    keyword3 = input('검색어3 : ')\n",
    "    start = input('시작일 : ')\n",
    "    end = input('종료일 : ')\n",
    "    \n",
    "    # 한 페이지 당 기사가 10개씩 10페이지까지 저장\n",
    "    for cnt in range (0, 100, 10):\n",
    "        article_save(keyword1, keyword2, keyword3, start, end, cnt)"
   ]
  },
  {
   "cell_type": "code",
   "execution_count": 6,
   "metadata": {},
   "outputs": [
    {
     "name": "stdout",
     "output_type": "stream",
     "text": [
      "검색어1 : 강남구\n",
      "검색어2 : 재건축\n",
      "검색어3 : 재개발\n",
      "시작일 : 1/1/2017\n",
      "종료일 : 1/1/2018\n",
      "저장완료\n",
      "저장완료\n",
      "저장완료\n",
      "저장완료\n",
      "저장완료\n",
      "저장완료\n",
      "저장완료\n",
      "저장완료\n",
      "저장완료\n",
      "저장완료\n"
     ]
    }
   ],
   "source": [
    "article_search()"
   ]
  },
  {
   "cell_type": "code",
   "execution_count": null,
   "metadata": {},
   "outputs": [],
   "source": []
  }
 ],
 "metadata": {
  "kernelspec": {
   "display_name": "Python 3",
   "language": "python",
   "name": "python3"
  },
  "language_info": {
   "codemirror_mode": {
    "name": "ipython",
    "version": 3
   },
   "file_extension": ".py",
   "mimetype": "text/x-python",
   "name": "python",
   "nbconvert_exporter": "python",
   "pygments_lexer": "ipython3",
   "version": "3.7.4"
  }
 },
 "nbformat": 4,
 "nbformat_minor": 2
}
