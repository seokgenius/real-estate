{
 "cells": [
  {
   "cell_type": "code",
   "execution_count": 1,
   "metadata": {},
   "outputs": [],
   "source": [
    "import bs4\n",
    "import requests\n",
    "import time\n",
    "import pandas as pd\n",
    "import os"
   ]
  },
  {
   "cell_type": "code",
   "execution_count": 2,
   "metadata": {},
   "outputs": [
    {
     "name": "stdout",
     "output_type": "stream",
     "text": [
      "Requirement already satisfied: selenium in c:\\anaconda\\lib\\site-packages (3.141.0)\n",
      "Requirement already satisfied: urllib3 in c:\\anaconda\\lib\\site-packages (from selenium) (1.24.2)\n",
      "Note: you may need to restart the kernel to use updated packages.\n"
     ]
    }
   ],
   "source": [
    "pip install selenium"
   ]
  },
  {
   "cell_type": "code",
   "execution_count": 3,
   "metadata": {},
   "outputs": [],
   "source": [
    "from selenium import webdriver"
   ]
  },
  {
   "cell_type": "code",
   "execution_count": 4,
   "metadata": {},
   "outputs": [],
   "source": [
    "# 부동산 기사를 담고 있을 리스트\n",
    "article_list = []\n",
    "\n",
    "driver = webdriver.Chrome()"
   ]
  },
  {
   "cell_type": "code",
   "execution_count": 135,
   "metadata": {},
   "outputs": [],
   "source": [
    "def article_search(cd_min, cd_max, start):\n",
    "    driver.get(f'https://www.google.com/search?q=%EA%B0%95%EB%82%A8%EA%B5%AC+%26+%EC%9E%AC%EA%B0%9C%EB%B0%9C+%26+%EC%9E%AC%EA%B1%B4%EC%B6%95&tbs=cdr:1,cd_min:{1/1/2017},cd_max:{1/1/2018}&tbm=nws&ei=P6E3XseGO9GnoAT6wbWADg&start={start}&sa=N&ved=0ahUKEwiHounBxbTnAhXRE4gKHfpgDeA4FBDy0wMIVw&biw=334&bih=695&dpr=1')\n",
    "    \n",
    "    div_tag = driver.find_element_by_css_selector('#rso > div')\n",
    "    \n",
    "    # 내부에 있는 h3 태그들을 가져온다.\n",
    "    h3_list = div_tag.find_elements_by_css_selector('div:nth-child(1) > div > h3')\n",
    "    \n",
    "    data_dic = { 'title' : [], 'link' : [] }\n",
    "\n",
    "    for h3_tag in h3_list:\n",
    "        # 기사 제목을 가져온다.\n",
    "        a_list = h3_tag.find_element_by_css_selector('a')\n",
    "        title_list = a_list.text.strip()\n",
    "        data_dic['title'].append(title_list)\n",
    "        \n",
    "    for i in range(1,11,1):\n",
    "        # 기사 링크를 가져온다.\n",
    "        link = driver.find_element_by_xpath(f'//*[@id=\"rso\"]/div/div[{i}]/div/div[1]/h3/a')\n",
    "        link_list = link.get_attribute('href')\n",
    "        data_dic['link'].append(link_list)\n",
    "        \n",
    "    df1 = pd.DataFrame.from_dict(data_dic)\n",
    "    df1.to_csv('article.csv', encoding='utf-8-sig', mode='a', index=False)\n",
    "    print('저장완료')"
   ]
  },
  {
   "cell_type": "code",
   "execution_count": 136,
   "metadata": {},
   "outputs": [
    {
     "name": "stdout",
     "output_type": "stream",
     "text": [
      "저장완료\n",
      "저장완료\n",
      "저장완료\n",
      "저장완료\n",
      "저장완료\n"
     ]
    },
    {
     "ename": "KeyboardInterrupt",
     "evalue": "",
     "output_type": "error",
     "traceback": [
      "\u001b[1;31m---------------------------------------------------------------------------\u001b[0m",
      "\u001b[1;31mKeyboardInterrupt\u001b[0m                         Traceback (most recent call last)",
      "\u001b[1;32m<ipython-input-136-c369f926bf65>\u001b[0m in \u001b[0;36m<module>\u001b[1;34m\u001b[0m\n\u001b[0;32m      1\u001b[0m \u001b[1;32mfor\u001b[0m \u001b[0mstart\u001b[0m \u001b[1;32min\u001b[0m \u001b[0mrange\u001b[0m \u001b[1;33m(\u001b[0m\u001b[1;36m0\u001b[0m\u001b[1;33m,\u001b[0m \u001b[1;36m100\u001b[0m\u001b[1;33m,\u001b[0m \u001b[1;36m10\u001b[0m\u001b[1;33m)\u001b[0m\u001b[1;33m:\u001b[0m\u001b[1;33m\u001b[0m\u001b[1;33m\u001b[0m\u001b[0m\n\u001b[0;32m      2\u001b[0m     \u001b[0marticle_search\u001b[0m\u001b[1;33m(\u001b[0m\u001b[1;34m'1/1/2017'\u001b[0m\u001b[1;33m,\u001b[0m\u001b[1;34m'1/1/2018'\u001b[0m\u001b[1;33m,\u001b[0m\u001b[0mstart\u001b[0m\u001b[1;33m)\u001b[0m\u001b[1;33m\u001b[0m\u001b[1;33m\u001b[0m\u001b[0m\n\u001b[1;32m----> 3\u001b[1;33m     \u001b[0mtime\u001b[0m\u001b[1;33m.\u001b[0m\u001b[0msleep\u001b[0m\u001b[1;33m(\u001b[0m\u001b[1;36m3\u001b[0m\u001b[1;33m)\u001b[0m\u001b[1;33m\u001b[0m\u001b[1;33m\u001b[0m\u001b[0m\n\u001b[0m",
      "\u001b[1;31mKeyboardInterrupt\u001b[0m: "
     ]
    }
   ],
   "source": [
    "for start in range (0, 100, 10):\n",
    "    article_search('1/1/2017','1/1/2018',start)\n",
    "    time.sleep(3)"
   ]
  },
  {
   "cell_type": "code",
   "execution_count": null,
   "metadata": {},
   "outputs": [],
   "source": []
  }
 ],
 "metadata": {
  "kernelspec": {
   "display_name": "Python 3",
   "language": "python",
   "name": "python3"
  },
  "language_info": {
   "codemirror_mode": {
    "name": "ipython",
    "version": 3
   },
   "file_extension": ".py",
   "mimetype": "text/x-python",
   "name": "python",
   "nbconvert_exporter": "python",
   "pygments_lexer": "ipython3",
   "version": "3.7.4"
  }
 },
 "nbformat": 4,
 "nbformat_minor": 2
}
