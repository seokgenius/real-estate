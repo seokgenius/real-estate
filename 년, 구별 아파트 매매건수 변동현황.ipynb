{
 "cells": [
  {
   "cell_type": "code",
   "execution_count": 1,
   "metadata": {},
   "outputs": [],
   "source": [
    "import matplotlib.pyplot as plt\n",
    "import pandas as pd\n",
    "\n",
    "from matplotlib import pyplot as plt\n",
    "\n",
    "from matplotlib import rcParams\n",
    "plt.rc('font', family='Malgun Gothic')\n",
    "plt.rc('font', size='10')"
   ]
  },
  {
   "cell_type": "code",
   "execution_count": 2,
   "metadata": {},
   "outputs": [],
   "source": [
    "df16 = pd.read_csv('gu16_transactions_count.csv',encoding='ANSI')\n",
    "df17 = pd.read_csv('gu17_transactions_count.csv',encoding='ANSI')\n",
    "df18 = pd.read_csv('gu18_transactions_count.csv',encoding='ANSI')\n",
    "df19 = pd.read_csv('gu19_transactions_count.csv',encoding='ANSI')\n"
   ]
  },
  {
   "cell_type": "code",
   "execution_count": null,
   "metadata": {
    "scrolled": true
   },
   "outputs": [],
   "source": [
    "fig = plt.figure(figsize = (20,4))\n",
    "ax = fig.add_subplot(111)\n",
    "\n",
    "ax.plot(df16['구'], df16.계약건수, label='16년도 계약건수', marker='o', mew=10)\n",
    "ax.plot(df17['구'], df17.계약건수, label='17년도 계약건수', marker='o', mew=10)\n",
    "ax.plot(df18['구'], df18.계약건수, label='18년도 계약건수', marker='o', mew=10)\n",
    "ax.plot(df19['구'], df19.계약건수, label='19년도 계약건수', marker='o', mew=10)\n",
    "\n",
    "ax.set_title('16~19년 구별 아파트 매매건수')\n",
    "ax.set_ylabel('구')\n",
    "ax.set_ylabel('매매건수')\n",
    "\n",
    "ax.legend(loc=1)\n",
    "plt.show()"
   ]
  },
  {
   "cell_type": "code",
   "execution_count": 3,
   "metadata": {},
   "outputs": [
    {
     "data": {
      "text/plain": [
       "{'강남구': 0,\n",
       " '강동구': 1,\n",
       " '강북구': 2,\n",
       " '강서구': 3,\n",
       " '관악구': 4,\n",
       " '광진구': 5,\n",
       " '구로구': 6,\n",
       " '금천구': 7,\n",
       " '노원구': 8,\n",
       " '도봉구': 9,\n",
       " '동대문구': 10,\n",
       " '동작구': 11,\n",
       " '마포구': 12,\n",
       " '서대문구': 13,\n",
       " '서초구': 14,\n",
       " '성동구': 15,\n",
       " '성북구': 16,\n",
       " '송파구': 17,\n",
       " '양천구': 18,\n",
       " '영등포구': 19,\n",
       " '용산구': 20,\n",
       " '은평구': 21,\n",
       " '종로구': 22,\n",
       " '중구': 23,\n",
       " '중랑구': 24}"
      ]
     },
     "execution_count": 3,
     "metadata": {},
     "output_type": "execute_result"
    }
   ],
   "source": [
    "df16_agg = pd.read_csv('gudong16_df_agg.csv',encoding='ANSI')\n",
    "df17_agg = pd.read_csv('gudong17_df_agg.csv',encoding='ANSI')\n",
    "df18_agg = pd.read_csv('gudong18_df_agg.csv',encoding='ANSI')\n",
    "df19_agg = pd.read_csv('gudong19_df_agg.csv',encoding='ANSI')\n",
    "\n",
    "# 구 이름을 숫자로 대응시킨 딕셔너리\n",
    "# 인덱싱을 하기 위해 필요\n",
    "gu_dict = {\n",
    "    '강남구':0,\n",
    "    '강동구':1,\n",
    "    '강북구':2,\n",
    "    '강서구':3,\n",
    "    '관악구':4,\n",
    "    '광진구':5,\n",
    "    '구로구':6,\n",
    "    '금천구':7,\n",
    "    '노원구':8,\n",
    "    '도봉구':9,\n",
    "    '동대문구':10,\n",
    "    '동작구':11,\n",
    "    '마포구':12,\n",
    "    '서대문구':13,\n",
    "    '서초구':14,\n",
    "    '성동구':15,\n",
    "    '성북구':16,\n",
    "    '송파구':17,\n",
    "    '양천구':18,\n",
    "    '영등포구':19,\n",
    "    '용산구':20,\n",
    "    '은평구':21,\n",
    "    '종로구':22,\n",
    "    '중구':23,\n",
    "    '중랑구':24\n",
    "}\n",
    "gu_dict"
   ]
  },
  {
   "cell_type": "code",
   "execution_count": 9,
   "metadata": {},
   "outputs": [],
   "source": [
    "# 구 이름을 입력하면 해당 구의 면적별 그래프를 그리는 함수\n",
    "def gu_agg_graph():\n",
    "    gu = input('구를 입력하세요 : ')\n",
    "    fig = plt.figure(figsize = (16, 9))\n",
    "    ax = fig.add_subplot(111)\n",
    "    cont_list_0 = [df16_agg['16년계약건수'][gu_dict[gu]*5], \n",
    "                   df17_agg['17년계약건수'][gu_dict[gu]*5],\n",
    "                   df18_agg['18년계약건수'][gu_dict[gu]*5],\n",
    "                   df19_agg['19년계약건수'][gu_dict[gu]*5]]\n",
    "    cont_list_1 = [df16_agg['16년계약건수'][gu_dict[gu]*5+1], \n",
    "                   df17_agg['17년계약건수'][gu_dict[gu]*5+1],\n",
    "                   df18_agg['18년계약건수'][gu_dict[gu]*5+1],\n",
    "                   df19_agg['19년계약건수'][gu_dict[gu]*5+1]]\n",
    "    cont_list_2 = [df16_agg['16년계약건수'][gu_dict[gu]*5+2], \n",
    "                   df17_agg['17년계약건수'][gu_dict[gu]*5+2],\n",
    "                   df18_agg['18년계약건수'][gu_dict[gu]*5+2],\n",
    "                   df19_agg['19년계약건수'][gu_dict[gu]*5+2]]\n",
    "    cont_list_3 = [df16_agg['16년계약건수'][gu_dict[gu]*5+3], \n",
    "                   df17_agg['17년계약건수'][gu_dict[gu]*5+3],\n",
    "                   df18_agg['18년계약건수'][gu_dict[gu]*5+3],\n",
    "                   df19_agg['19년계약건수'][gu_dict[gu]*5+3]]\n",
    "    cont_list_4 = [df16_agg['16년계약건수'][gu_dict[gu]*5+4], \n",
    "                   df17_agg['17년계약건수'][gu_dict[gu]*5+4],\n",
    "                   df18_agg['18년계약건수'][gu_dict[gu]*5+4],\n",
    "                   df19_agg['19년계약건수'][gu_dict[gu]*5+4]]\n",
    "    \n",
    "    year_list = ['2016','2017','2018','2019']\n",
    "    ax.plot(year_list, cont_list_0, label='0')\n",
    "    ax.plot(year_list, cont_list_1, label='1')\n",
    "    ax.plot(year_list, cont_list_2, label='2')\n",
    "    ax.plot(year_list, cont_list_3, label='3')\n",
    "    ax.plot(year_list, cont_list_4, label='4')\n",
    "    \n",
    "    ax.set_title(f\"{df16['구'][gu_dict[gu]]} 면적별 계약건수\")\n",
    "    ax.set_ylabel('계약건수')\n",
    "    plt.show()"
   ]
  },
  {
   "cell_type": "code",
   "execution_count": 10,
   "metadata": {},
   "outputs": [
    {
     "name": "stdout",
     "output_type": "stream",
     "text": [
      "구를 입력하세요 : 관악구\n"
     ]
    },
    {
     "data": {
      "image/png": "[encoded data removed]",
      "text/plain": [
       "<Figure size 1152x648 with 1 Axes>"
      ]
     },
     "metadata": {
      "needs_background": "light"
     },
     "output_type": "display_data"
    }
   ],
   "source": [
    "gu_agg_graph()"
   ]
  },
  {
   "cell_type": "code",
   "execution_count": null,
   "metadata": {},
   "outputs": [],
   "source": [
    "# 구 이름을 입력하면 해당 구의 그래프를 그리는 함수\n",
    "def gu_graph() :\n",
    "    gu = input('구를 입력하세요 : ')\n",
    "    fig = plt.figure(figsize = (10, 4))\n",
    "    ax2 = fig.add_subplot(111)\n",
    "    cont_list = [df16.계약건수[gu_dict[gu]],df17.계약건수[gu_dict[gu]],df18.계약건수[gu_dict[gu]],df19.계약건수[gu_dict[gu]]]\n",
    "    ax2.plot(['2016','2017','2018','2019'], cont_list)\n",
    "    ax2.set_title(f\"{df16['구'][gu_dict[gu]]} 계약건수\")\n",
    "    ax2.set_ylabel('매매건수')\n",
    "    plt.show()"
   ]
  },
  {
   "cell_type": "code",
   "execution_count": null,
   "metadata": {},
   "outputs": [],
   "source": [
    "gu_graph()"
   ]
  },
  {
   "cell_type": "code",
   "execution_count": null,
   "metadata": {},
   "outputs": [],
   "source": [
    "fig = plt.figure(figsize = (20,4))\n",
    "ax = fig.add_subplot(111)\n",
    "\n",
    "ax.plot(df16['구'], df16.계약건수, label='16년도 계약건수')\n",
    "\n",
    "ax.plot(df19['구'], df19.계약건수, label='19년도 계약건수')\n",
    "\n",
    "ax.set_title('[16년도 vs 19년도] 구별 아파트 매매건수')\n",
    "ax.set_ylabel('구')\n",
    "ax.set_ylabel('매매건수')\n",
    "\n",
    "ax.legend()\n",
    "plt.show()"
   ]
  },
  {
   "cell_type": "code",
   "execution_count": null,
   "metadata": {},
   "outputs": [],
   "source": [
    "year_count = pd.read_csv('year_count.csv',encoding='ANSI')"
   ]
  },
  {
   "cell_type": "code",
   "execution_count": null,
   "metadata": {},
   "outputs": [],
   "source": [
    "year_count['기간']"
   ]
  },
  {
   "cell_type": "code",
   "execution_count": null,
   "metadata": {},
   "outputs": [],
   "source": [
    "fig = plt.figure(figsize = (20,4))\n",
    "\n",
    "list1 = list(year_count['기간'])\n",
    "list2 = list(year_count.계약건수)\n",
    "\n",
    "plt.title('16~19년도별 아파트 거래량')\n",
    "plt.plot(list1, list2)\n",
    "\n",
    "plt.show()"
   ]
  },
  {
   "cell_type": "code",
   "execution_count": null,
   "metadata": {},
   "outputs": [],
   "source": [
    "df16.info()"
   ]
  },
  {
   "cell_type": "markdown",
   "metadata": {},
   "source": [
    "def gu_year_transaction():\n",
    "    ans = input('구를 입력... :')\n",
    "    "
   ]
  },
  {
   "cell_type": "markdown",
   "metadata": {},
   "source": [
    "## 년도별 매매건수. (bar으로 표시)"
   ]
  },
  {
   "cell_type": "markdown",
   "metadata": {},
   "source": [
    "s_mean, s_max = df16.mean(), df19.mean()"
   ]
  },
  {
   "cell_type": "markdown",
   "metadata": {},
   "source": [
    "fig = plt.figure()\n",
    "ax = fig.add_subplot(111)"
   ]
  },
  {
   "cell_type": "markdown",
   "metadata": {},
   "source": [
    "ax.bar(df16.index, s_mean, label='16년도평균')\n",
    "ax.bar(df19.index, s_max, label='19년도평균')"
   ]
  },
  {
   "cell_type": "markdown",
   "metadata": {},
   "source": [
    "ax.set_xtick([1.5, 4.5, 7, 11])\n",
    "ax.set_xticklabels(df19.index)\n",
    "\n",
    "ax.legend()\n",
    "plt.show()"
   ]
  },
  {
   "cell_type": "code",
   "execution_count": null,
   "metadata": {
    "scrolled": true
   },
   "outputs": [],
   "source": [
    "# 16년도 구별 아파트 매매건수.\n",
    "fig = plt.figure(figsize = (20,10))\n",
    "count = list(df16.계약건수)\n",
    "\n",
    "plt.bar(range(len(count)), count)\n",
    "\n",
    "ax.set_title('16년도 구별 아파트 매매건수')\n",
    "ax.set_ylabel('구')\n",
    "ax.set_ylabel('매매건수')\n",
    "ax = plt.subplot()\n",
    "ax.set_xticks([0,1,2,3,4,5,6,7,8,9,10,11,12,13,14,15,16,17,18,19,20,21,22,23,24,25])\n",
    "ax.set_xticklabels(list(df16['구']), rotation=50)\n",
    "\n",
    "plt.show()"
   ]
  },
  {
   "cell_type": "markdown",
   "metadata": {},
   "source": [
    "s_max16, s_max19 = df16.head(), df19.head()\n",
    "\n",
    "fig = plt.figure()\n",
    "ax = fig.add_subplot(111)\n",
    "\n",
    "ax.bar([1,3,5,7,9], s_max16, label='16년도 거래건수 많은 구 top5')\n",
    "ax.bar([2,4,6,8], s_max19, label='19년도 거래건수 많은 구 top5')\n",
    "\n",
    "ax.set_xticks([1.5, 4.5, 7, 11])\n",
    "ax.set_xticklabels(list(df16.구))\n",
    "\n",
    "ax.legend()\n",
    "plt.show()"
   ]
  },
  {
   "cell_type": "code",
   "execution_count": null,
   "metadata": {},
   "outputs": [],
   "source": []
  }
 ],
 "metadata": {
  "kernelspec": {
   "display_name": "Python 3",
   "language": "python",
   "name": "python3"
  },
  "language_info": {
   "codemirror_mode": {
    "name": "ipython",
    "version": 3
   },
   "file_extension": ".py",
   "mimetype": "text/x-python",
   "name": "python",
   "nbconvert_exporter": "python",
   "pygments_lexer": "ipython3",
   "version": "3.7.4"
  }
 },
 "nbformat": 4,
 "nbformat_minor": 2
}
