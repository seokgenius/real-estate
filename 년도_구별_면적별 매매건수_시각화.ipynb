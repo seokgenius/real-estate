{
 "cells": [
  {
   "cell_type": "code",
   "execution_count": null,
   "metadata": {},
   "outputs": [],
   "source": [
    "import pandas as pd\n",
    "import numpy as np\n",
    "import seaborn as sns\n",
    "from matplotlib import pyplot as plt\n",
    "\n",
    "from matplotlib import rcParams\n",
    "plt.rc('font', family='Malgun Gothic')\n",
    "plt.rc('font', size='10')"
   ]
  },
  {
   "cell_type": "code",
   "execution_count": null,
   "metadata": {},
   "outputs": [],
   "source": [
    "df16_agg = pd.read_csv('gudong16_df_agg.csv', encoding='ANSI')\n",
    "df17_agg = pd.read_csv('gudong17_df_agg.csv', encoding='ANSI')\n",
    "df18_agg = pd.read_csv('gudong18_df_agg.csv', encoding='ANSI')\n",
    "df19_agg = pd.read_csv('gudong19_df_agg.csv', encoding='ANSI')\n",
    "\n",
    "df16_agg = df16_agg.fillna(0)\n",
    "df17_agg = df17_agg.fillna(0)\n",
    "df18_agg = df18_agg.fillna(0)\n",
    "df19_agg = df19_agg.fillna(0)"
   ]
  },
  {
   "cell_type": "code",
   "execution_count": null,
   "metadata": {},
   "outputs": [],
   "source": [
    "def search_visualize_apart16():\n",
    "    ans = input('구를 입력... :')\n",
    "    df16_agg = df16_agg.loc[df16_agg['구'] == ans][['기간','전용면적', '계약건수']] \n",
    "    \n",
    "    fig = plt.figure(figsize = (20,10))\n",
    "    count = list(df16_agg.전용면적)\n",
    "\n",
    "    plt.bar(range(len(count)), count)\n",
    "\n",
    "    ax.set_title('16년도 구별 아파트 매매건수')\n",
    "    ax.set_ylabel('구')\n",
    "    ax.set_ylabel('계약건수')\n",
    "    ax = plt.subplot()\n",
    "    ax.set_xticks([0,1,2,3])\n",
    "    ax.set_xticklabels(list(df16_agg['전용면적']), rotation=50)\n",
    "    \n",
    "    "
   ]
  },
  {
   "cell_type": "code",
   "execution_count": null,
   "metadata": {},
   "outputs": [],
   "source": [
    "search_visualize_apart16()"
   ]
  },
  {
   "cell_type": "code",
   "execution_count": null,
   "metadata": {},
   "outputs": [],
   "source": []
  }
 ],
 "metadata": {
  "kernelspec": {
   "display_name": "Python 3",
   "language": "python",
   "name": "python3"
  },
  "language_info": {
   "codemirror_mode": {
    "name": "ipython",
    "version": 3
   },
   "file_extension": ".py",
   "mimetype": "text/x-python",
   "name": "python",
   "nbconvert_exporter": "python",
   "pygments_lexer": "ipython3",
   "version": "3.7.4"
  }
 },
 "nbformat": 4,
 "nbformat_minor": 2
}
