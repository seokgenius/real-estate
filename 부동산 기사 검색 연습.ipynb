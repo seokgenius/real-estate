{
 "cells": [
  {
   "cell_type": "code",
   "execution_count": 1,
   "metadata": {},
   "outputs": [],
   "source": [
    "import bs4\n",
    "import requests\n",
    "import time\n",
    "import pandas as pd\n",
    "import os"
   ]
  },
  {
   "cell_type": "code",
   "execution_count": 2,
   "metadata": {},
   "outputs": [
    {
     "name": "stdout",
     "output_type": "stream",
     "text": [
      "Requirement already satisfied: selenium in c:\\anaconda\\lib\\site-packages (3.141.0)\n",
      "Requirement already satisfied: urllib3 in c:\\anaconda\\lib\\site-packages (from selenium) (1.24.2)\n",
      "Note: you may need to restart the kernel to use updated packages.\n"
     ]
    }
   ],
   "source": [
    "pip install selenium"
   ]
  },
  {
   "cell_type": "code",
   "execution_count": 3,
   "metadata": {},
   "outputs": [],
   "source": [
    "from selenium import webdriver"
   ]
  },
  {
   "cell_type": "code",
   "execution_count": 4,
   "metadata": {},
   "outputs": [],
   "source": [
    "# 부동산 기사를 담고 있을 리스트\n",
    "article_list = []\n",
    "\n",
    "driver = webdriver.Chrome()"
   ]
  },
  {
   "cell_type": "code",
   "execution_count": 22,
   "metadata": {},
   "outputs": [],
   "source": [
    "def article_search(start):\n",
    "    driver.get(f'https://www.google.com/search?q=%EA%B0%95%EB%82%A8%EA%B5%AC+%26+%EC%9E%AC%EA%B0%9C%EB%B0%9C+%26+%EC%9E%AC%EA%B1%B4%EC%B6%95&tbs=cdr:1,cd_min:1/1/2017,cd_max:1/1/2018&tbm=nws&ei=P6E3XseGO9GnoAT6wbWADg&start={start}&sa=N&ved=0ahUKEwiHounBxbTnAhXRE4gKHfpgDeA4FBDy0wMIVw&biw=334&bih=695&dpr=1')\n",
    "    \n",
    "    div_tag = driver.find_element_by_css_selector('#rso > div')\n",
    "\n",
    "    # 내부에 있는 h3 태그들을 가져온다.\n",
    "    h3_list = div_tag.find_elements_by_css_selector('div:nth-child(1) > div > h3')\n",
    "    \n",
    "    data_dic = { 'title' : [] }\n",
    "\n",
    "    for h3_tag in h3_list:\n",
    "        # 기사 제목을 가져온다.\n",
    "        a_list = h3_tag.find_element_by_css_selector('a')\n",
    "        title_list = a_list.text.strip()\n",
    "        data_dic['title'].append(title_list)\n",
    "        \n",
    "    df1 = pd.DataFrame.from_dict(data_dic)\n",
    "    df1.to_csv('article.csv', encoding='utf-8-sig', mode='a', index=False)\n",
    "    print('저장완료')"
   ]
  },
  {
   "cell_type": "code",
   "execution_count": 23,
   "metadata": {},
   "outputs": [
    {
     "name": "stdout",
     "output_type": "stream",
     "text": [
      "저장완료\n",
      "저장완료\n",
      "저장완료\n",
      "저장완료\n",
      "저장완료\n",
      "저장완료\n",
      "저장완료\n",
      "저장완료\n",
      "저장완료\n",
      "저장완료\n"
     ]
    }
   ],
   "source": [
    "for i in range (0, 100, 10):\n",
    "    article_search(i)\n",
    "    time.sleep(3)"
   ]
  },
  {
   "cell_type": "code",
   "execution_count": null,
   "metadata": {},
   "outputs": [],
   "source": []
  }
 ],
 "metadata": {
  "kernelspec": {
   "display_name": "Python 3",
   "language": "python",
   "name": "python3"
  },
  "language_info": {
   "codemirror_mode": {
    "name": "ipython",
    "version": 3
   },
   "file_extension": ".py",
   "mimetype": "text/x-python",
   "name": "python",
   "nbconvert_exporter": "python",
   "pygments_lexer": "ipython3",
   "version": "3.7.4"
  }
 },
 "nbformat": 4,
 "nbformat_minor": 2
}
